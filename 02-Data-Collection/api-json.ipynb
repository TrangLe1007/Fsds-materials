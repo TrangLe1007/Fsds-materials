{
 "metadata": {
  "language_info": {
   "codemirror_mode": {
    "name": "ipython",
    "version": 3
   },
   "file_extension": ".py",
   "mimetype": "text/x-python",
   "name": "python",
   "nbconvert_exporter": "python",
   "pygments_lexer": "ipython3",
   "version": "3.8.3"
  },
  "orig_nbformat": 4,
  "kernelspec": {
   "name": "python3",
   "display_name": "Python 3.8.3 64-bit (conda)"
  },
  "interpreter": {
   "hash": "0af6d0490f2597823f87d92aa5eca07e4b752751b56387b5dbca6d3197d35149"
  }
 },
 "nbformat": 4,
 "nbformat_minor": 2,
 "cells": [
  {
   "source": [
    "# API & JSON"
   ],
   "cell_type": "markdown",
   "metadata": {}
  },
  {
   "source": [
    "## Why API?\n",
    "* Try this: \n",
    "    - [Organize Your Music](http://organizeyourmusic.playlistmachinery.com/)\n",
    "    - [Obscurify.](https://obscurifymusic.com/login)\n",
    "* How can this Web Apps can get your Spotify Data? => Spotify API\n",
    "* Behind the scence: Spotify API [HERE](https://developer.spotify.com/console/)\n",
    "\n",
    "You can think about API as a function: Take input, do something, return output\n",
    "* Inputs:\n",
    "    - `API Reference`: Description about the API\n",
    "    - `Endpoint`: Though function is on your laptop, API is a function on cloud. That you can call through a HTTP (URL), API https method\n",
    "    - `HTTP method`: GET, POST, PATCH, PUT, DELETE\n",
    "    - `OAuth`: some API required Authorization (it's like a password, that enables to access the API)\n",
    "    - `Input parameters`: Notice how they are passed into the API URL endpoint \n",
    "* Output:\n",
    "    - key-value data structure (JSON)\n",
    "\n",
    "![spotify-api.png](./images/spotify-api.png)\n",
    "    "
   ],
   "cell_type": "markdown",
   "metadata": {}
  },
  {
   "source": [
    "## How to call API?\n",
    "* In Terminal, with `curl`\n",
    "* In Python, module `requests`"
   ],
   "cell_type": "markdown",
   "metadata": {}
  },
  {
   "cell_type": "code",
   "execution_count": 1,
   "metadata": {},
   "outputs": [
    {
     "output_type": "execute_result",
     "data": {
      "text/plain": [
       "<Response [200]>"
      ]
     },
     "metadata": {},
     "execution_count": 1
    }
   ],
   "source": [
    "import requests \n",
    "inputs = {'country':'VN', 'limit':5,'offset':5}\n",
    "URL_endpoint = 'https://api.spotify.com/v1/browse/featured-playlists' + \\\n",
    "    '?country={}&limit={}&offset={}'.format(inputs['country'],inputs['limit'],inputs['offset'])\n",
    "\n",
    "headers = {'Authorization':'Bearer {}'.format(input('Token'))} ## Be careful with your Token\n",
    "response = requests.get(URL_endpoint, headers=headers)\n",
    "response"
   ]
  },
  {
   "source": [
    "Here are some codes that are relevant to GET requests:\n",
    "\n",
    "* 200 - everything is OK, and the result has been returned (if any)\n",
    "* 301 - the server is redirecting you to a different endpoint. This can happen when a company switches domain names, or an endpoint name is changed.\n",
    "* 401 - the server thinks you're not authenticated. This happens when you don't send the right credentials to access an API (we'll talk about authentication in a later post).\n",
    "* 400 - the server thinks you made a bad request. This can happen when you don't send along the right data, among other things.\n",
    "* 403 - the resource you're trying to access is forbidden -- you don't have the right permissions to see it.\n",
    "* 404 - the resource you tried to access wasn't found on the server."
   ],
   "cell_type": "markdown",
   "metadata": {}
  },
  {
   "cell_type": "code",
   "execution_count": 13,
   "metadata": {},
   "outputs": [
    {
     "output_type": "stream",
     "name": "stdout",
     "text": [
      "dict_keys(['message', 'playlists'])\n"
     ]
    },
    {
     "output_type": "execute_result",
     "data": {
      "text/plain": [
       "{'href': 'https://api.spotify.com/v1/playlists/37i9dQZF1DX7sUtJC5lRfJ/tracks',\n",
       " 'total': 120}"
      ]
     },
     "metadata": {},
     "execution_count": 13
    }
   ],
   "source": [
    "# Explore the data\n",
    "response_json = response.json()\n",
    "#response_json\n",
    "print(response_json.keys())\n",
    "response_json['playlists']['items'][0]['tracks']"
   ]
  },
  {
   "source": [
    "## International Space Station (ISS) API"
   ],
   "cell_type": "markdown",
   "metadata": {}
  },
  {
   "cell_type": "code",
   "execution_count": 14,
   "metadata": {},
   "outputs": [
    {
     "output_type": "stream",
     "name": "stdout",
     "text": [
      "200\n"
     ]
    }
   ],
   "source": [
    "# We query the API with Paris coordinates\n",
    "paris = {\"lat\": 48.864716, \"lon\": 2.349014}\n",
    "URL_endpoint = \"http://api.open-notify.org/\"\n",
    "response = requests.get(URL_endpoint + \"iss-pass.json?lat={}&lon={}\".format(paris[\"lat\"], paris[\"lon\"]))\n",
    "print(response.status_code)"
   ]
  },
  {
   "cell_type": "code",
   "execution_count": 15,
   "metadata": {},
   "outputs": [
    {
     "output_type": "execute_result",
     "data": {
      "text/plain": [
       "b'{\\n  \"message\": \"success\", \\n  \"request\": {\\n    \"altitude\": 100, \\n    \"datetime\": 1624627502, \\n    \"latitude\": 48.864716, \\n    \"longitude\": 2.349014, \\n    \"passes\": 5\\n  }, \\n  \"response\": [\\n    {\\n      \"duration\": 450, \\n      \"risetime\": 1624676376\\n    }, \\n    {\\n      \"duration\": 638, \\n      \"risetime\": 1624682044\\n    }, \\n    {\\n      \"duration\": 655, \\n      \"risetime\": 1624687839\\n    }, \\n    {\\n      \"duration\": 653, \\n      \"risetime\": 1624693666\\n    }, \\n    {\\n      \"duration\": 653, \\n      \"risetime\": 1624699481\\n    }\\n  ]\\n}\\n'"
      ]
     },
     "metadata": {},
     "execution_count": 15
    }
   ],
   "source": [
    "response.content"
   ]
  },
  {
   "cell_type": "code",
   "execution_count": 16,
   "metadata": {},
   "outputs": [
    {
     "output_type": "execute_result",
     "data": {
      "text/plain": [
       "dict"
      ]
     },
     "metadata": {},
     "execution_count": 16
    }
   ],
   "source": [
    "paris_res = response.json() # use the .json() to convert to dict\n",
    "type(paris_res)"
   ]
  },
  {
   "cell_type": "code",
   "execution_count": 17,
   "metadata": {},
   "outputs": [
    {
     "output_type": "execute_result",
     "data": {
      "text/plain": [
       "{'message': 'success',\n",
       " 'request': {'altitude': 100,\n",
       "  'datetime': 1624627502,\n",
       "  'latitude': 48.864716,\n",
       "  'longitude': 2.349014,\n",
       "  'passes': 5},\n",
       " 'response': [{'duration': 450, 'risetime': 1624676376},\n",
       "  {'duration': 638, 'risetime': 1624682044},\n",
       "  {'duration': 655, 'risetime': 1624687839},\n",
       "  {'duration': 653, 'risetime': 1624693666},\n",
       "  {'duration': 653, 'risetime': 1624699481}]}"
      ]
     },
     "metadata": {},
     "execution_count": 17
    }
   ],
   "source": [
    "paris_res"
   ]
  },
  {
   "source": [
    "#TODO: Having cities with lon, and lat, Call ISS API to get the duration and risetime of that cities. Store data into a dict cities_pass\n",
    "cities = {\n",
    "    'paris': {'lat': 48.856614, 'lon': 2.3522219},\n",
    "    'london': {'lat': 51.5073509, 'lon':  -0.1277583},\n",
    "    'tokyo': {'lat': 35.689487, 'lon': 139.691706},\n",
    "    'berlin': {'lat': 52.520007, 'lon': 13.404954},\n",
    "    'nairobi': {'lat': -1.2920659, 'lon': 36.8219462}\n",
    "}\n",
    "\n",
    "out = []\n",
    "## Hints:\n",
    "# What's input?\n",
    "# What's the output?\n",
    "# Use loop to repeat the same task for cities in the list of cities"
   ],
   "cell_type": "code",
   "metadata": {},
   "execution_count": null,
   "outputs": []
  },
  {
   "source": [
    "## Write JSON?"
   ],
   "cell_type": "markdown",
   "metadata": {}
  },
  {
   "cell_type": "code",
   "execution_count": 41,
   "metadata": {},
   "outputs": [
    {
     "output_type": "execute_result",
     "data": {
      "text/plain": [
       "{'message': 'success',\n",
       " 'request': {'altitude': 100,\n",
       "  'datetime': 1624601957,\n",
       "  'latitude': 48.864716,\n",
       "  'longitude': 2.349014,\n",
       "  'passes': 5},\n",
       " 'response': [{'duration': 653, 'risetime': 1624604255},\n",
       "  {'duration': 653, 'risetime': 1624610079},\n",
       "  {'duration': 643, 'risetime': 1624615891},\n",
       "  {'duration': 492, 'risetime': 1624621734},\n",
       "  {'duration': 447, 'risetime': 1624676343}]}"
      ]
     },
     "metadata": {},
     "execution_count": 41
    }
   ],
   "source": [
    "paris_res"
   ]
  },
  {
   "cell_type": "code",
   "execution_count": 44,
   "metadata": {},
   "outputs": [],
   "source": [
    "import json\n",
    "filepath = os.path.join('output','paris_iss.json')\n",
    "with open(filepath, 'w') as f:\n",
    "    json.dump(paris_res, f)\n"
   ]
  },
  {
   "cell_type": "code",
   "execution_count": null,
   "metadata": {},
   "outputs": [],
   "source": [
    "filepath = os.path.join('output','paris_iss.json')\n",
    "with open(filepath, 'w') as f:\n",
    "    json.dump(paris_res, f)"
   ]
  },
  {
   "source": [
    "Check the JSON file in Folder. \n",
    "* See JSON files in VSCode\n",
    "* You can install the extensions: Prettify JSON \n",
    "* Ctrl+Shift+P => Prettify JSON"
   ],
   "cell_type": "markdown",
   "metadata": {}
  },
  {
   "source": [
    "## Read a JSON"
   ],
   "cell_type": "markdown",
   "metadata": {}
  },
  {
   "cell_type": "code",
   "execution_count": 45,
   "metadata": {},
   "outputs": [
    {
     "output_type": "execute_result",
     "data": {
      "text/plain": [
       "{'message': 'success',\n",
       " 'request': {'altitude': 100,\n",
       "  'datetime': 1624601957,\n",
       "  'latitude': 48.864716,\n",
       "  'longitude': 2.349014,\n",
       "  'passes': 5},\n",
       " 'response': [{'duration': 653, 'risetime': 1624604255},\n",
       "  {'duration': 653, 'risetime': 1624610079},\n",
       "  {'duration': 643, 'risetime': 1624615891},\n",
       "  {'duration': 492, 'risetime': 1624621734},\n",
       "  {'duration': 447, 'risetime': 1624676343}]}"
      ]
     },
     "metadata": {},
     "execution_count": 45
    }
   ],
   "source": [
    "with open(filepath, 'r') as f:\n",
    "    recipe_data = json.load(f)\n",
    "    \n",
    "recipe_data"
   ]
  },
  {
   "cell_type": "code",
   "execution_count": null,
   "metadata": {},
   "outputs": [],
   "source": []
  }
 ]
}