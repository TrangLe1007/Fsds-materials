{
 "metadata": {
  "language_info": {
   "codemirror_mode": {
    "name": "ipython",
    "version": 3
   },
   "file_extension": ".py",
   "mimetype": "text/x-python",
   "name": "python",
   "nbconvert_exporter": "python",
   "pygments_lexer": "ipython3",
   "version": "3.8.3"
  },
  "orig_nbformat": 4,
  "kernelspec": {
   "name": "python3",
   "display_name": "Python 3.8.3 64-bit (conda)"
  },
  "interpreter": {
   "hash": "0af6d0490f2597823f87d92aa5eca07e4b752751b56387b5dbca6d3197d35149"
  }
 },
 "nbformat": 4,
 "nbformat_minor": 2,
 "cells": [
  {
   "source": [
    "**Install MongoDB**: https://docs.mongodb.com/manual/installation/\n",
    "\n",
    "**Example Data**\n",
    "* https://docs.mongodb.com/php-library/v1.2/tutorial/example-data/\n",
    "* https://github.com/ozlerhakan/mongodb-json-files/tree/master/datasets"
   ],
   "cell_type": "markdown",
   "metadata": {}
  },
  {
   "source": [
    "# MongoDB\n",
    "\n",
    "* Previously, we learm about SQL (Structured Query Language), as the standard language to define, manipulate, extract and manage data in RDBMS (relationship Database). The data is as tables. \n",
    "* Schema: structure of the data, all data models, approaches, technologies for creating DB System "
   ],
   "cell_type": "markdown",
   "metadata": {}
  },
  {
   "source": [
    "## Why NoSQL?\n",
    "\n",
    "NoSQL (Not Only SQL): not a query language, have some advances comparning to SQL\n",
    "\n",
    "* **Flexibility**: NoSQL DB are schema-flexible, no rigid columns as in tables, value-key (nested) => No predefined data models\n",
    "* **Scalability**: ease for horizontal scaling, by adding more machines. NoSQL is easy to config by cluster\n",
    "* **Agile Adaptability**: Simplicity of their config, schema-flexible nature (ability to make prototype, frequent iteration, not costly to change schema as RDBMS)\n"
   ],
   "cell_type": "markdown",
   "metadata": {}
  },
  {
   "source": [
    "## Type of NoSQL DBMS\n",
    "\n",
    "* Key-value: similar to JSON (Dict)\n",
    "* Document: key/document (JSON, BSON, XML, or even richer data). Nested documents\n",
    "* Column Family Store: store data by columns separately with a column key, or rows separately with a row key (=> More efficient for heavy read requests for data with large scale)\n",
    "* Graph: The data is represented as links and ndoes (each node have a list of properties, link: relationship)\n",
    "\n",
    "![nosql-databases-overview.png](./images/nosql-databases-overview.png)\n"
   ],
   "cell_type": "markdown",
   "metadata": {}
  },
  {
   "source": [
    "## Load data into MongoDB\n",
    "\n",
    "```\n",
    "mongoimport --db vivadata --collection zips --drop --file /Users/danghuynhmaianh/Documents/GitHub/fsds-courses/02-Data-Collection/data/zips.json\n",
    "```"
   ],
   "cell_type": "markdown",
   "metadata": {}
  },
  {
   "source": [
    "![mongo-dbs.png](./images/mongo-dbs.png)"
   ],
   "cell_type": "markdown",
   "metadata": {}
  },
  {
   "source": [
    "## Inspect the Data\n",
    "\n",
    "1. `show dbs`\n",
    "2. `use vivadata`\n",
    "3. `show collections`\n",
    "4. `db.zips.findOne()`"
   ],
   "cell_type": "markdown",
   "metadata": {}
  },
  {
   "source": [
    "## Read (Query Data)\n",
    "\n",
    "![mongodb-find.png](./images/mongodb-find.png)"
   ],
   "cell_type": "markdown",
   "metadata": {}
  },
  {
   "source": [
    "1. Find a Particular Value: `db.zips.find({city: {$eq: \"NEW YORK\"} })`\n",
    "2. Filter a range of numeric value :`db.zips.find({pop: {\"$gte\" : 20000, \"$lte\": 50000} })`\n",
    "3. Show field: `db.zips.find({pop : {$gt: 90000} }, {_id: 0, city: 1, pop: 1})` (Show fields `city`, `pop`)\n",
    "4. Sorting: `db.zips.find({pop : {$gt: 90000} }, {_id: 0, city: 1, pop: 1}).sort({pop: +1})` (Sort `pop` ascending)\n",
    "5. Limit displayed records: `db.zips.find({pop : {$gt: 90000} }, {_id: 0, city: 1, pop: 1}).sort({pop: +1}).limit(3)`\n",
    "6. Filter nested documents conditions: `db.students.find({scores: {$elemMatch: {score: {$gt: 90} , type: \"exam\"}} })` (score and type nested in scores)\n",
    "7. Count: `db.students.find({scores: {$elemMatch: {score: {$gt: 90} , type: \"exam\"}} }).count()`\n",
    "8. Distinct values: `db.zips.distinct(\"city\")`\n"
   ],
   "cell_type": "markdown",
   "metadata": {}
  },
  {
   "source": [
    "## `db.collection.aggregate()`\n",
    "\n",
    "![mongodb-aggregate.png](./images/mongodb-aggregate.png)"
   ],
   "cell_type": "markdown",
   "metadata": {}
  },
  {
   "source": [
    "![agg-operator.png](./images/agg-operator.png)"
   ],
   "cell_type": "markdown",
   "metadata": {}
  },
  {
   "source": [
    "1. Sum of population by city\n",
    "\n",
    "```\n",
    "db.zips.aggregate([\n",
    "        { $group : { _id: \"$city\", total_population : {$sum: \"$pop\"} } }\n",
    "     ])\n",
    "```"
   ],
   "cell_type": "markdown",
   "metadata": {}
  },
  {
   "source": [
    "2. Sum by Group, then sort, then limit\n",
    "\n",
    "```\n",
    "db.zips.aggregate([\n",
    "        { $group : { _id: \"$city\", total_population : {$sum: \"$pop\"} } },\n",
    "        { $sort : { total_population :-1 } },\n",
    "        { $limit: 3}\n",
    "     ])\n",
    "```"
   ],
   "cell_type": "markdown",
   "metadata": {}
  },
  {
   "source": [
    "3. Count Zip Code per city\n",
    "\n",
    "```\n",
    "db.zips.aggregate([\n",
    "        { $group : { _id: \"$city\", nb_zipcodes: {$sum: 1} } },\n",
    "        { $sort : { nb_zipcodes :-1 } },\n",
    "     ])\n",
    "```"
   ],
   "cell_type": "markdown",
   "metadata": {}
  },
  {
   "source": [
    "4. Add the zipcodes to \n",
    "\n",
    "```\n",
    "db.zips.aggregate([\n",
    "        { $group : { _id: \"$city\", nb_zipcodes : { $sum : 1}, zipcodes : {$addToSet: \"$_id\"} } },\n",
    "    ])\n",
    "```"
   ],
   "cell_type": "markdown",
   "metadata": {}
  },
  {
   "source": [
    "5. List 10 most populated cities in NY\n",
    "* Filter state = 'NY'\n",
    "* Sum(Pop) by city \n",
    "* Sort by total_population\n",
    "* Limit top 10 \n",
    "* Add the zip code (_id is just a trick, no actual grouping)\n",
    "* Not show _id\n",
    "\n",
    "```\n",
    "db.zips.aggregate([\n",
    "        { $match : { state : {$eq : \"NY\" } } },\n",
    "        { $group : { _id: \"$city\", total_population :  { $sum: \"$pop\"} } },\n",
    "        { $sort : { total_population :-1 } },\n",
    "        { $limit: 10},\n",
    "        { $group : { _id: null , most_populated_cities : { $addToSet: \"$_id\"} } },\n",
    "        { $project : {_id: 0 } }\n",
    "    ])\n",
    "```"
   ],
   "cell_type": "markdown",
   "metadata": {}
  },
  {
   "source": [
    "6. Cities name with more than 1 words \n",
    "* Split city by \" \" by `$split`\n",
    "* Count the element in words_city by `$size`\n",
    "* Math to filter nb_words_city > 1 \n",
    "* Group by city, then sort \n",
    "\n",
    "```\n",
    "db.zips.aggregate([\n",
    "    { $project : { words_city : { $split: [ \"$city\" , \" \"]},  city : 1}},\n",
    "    { $project : { nb_words_city : { $size : \"$words_city\"},  city : 1}},\n",
    "    { $match : { nb_words_city : { $gt : 1}}},\n",
    "    { $group : { _id :  \"$city\" }},\n",
    "    { $sort : { _id : 1}},\n",
    "])\n",
    "```\n"
   ],
   "cell_type": "markdown",
   "metadata": {}
  },
  {
   "source": [
    "# PyMongo"
   ],
   "cell_type": "markdown",
   "metadata": {}
  },
  {
   "cell_type": "code",
   "execution_count": 1,
   "metadata": {},
   "outputs": [
    {
     "output_type": "stream",
     "name": "stdout",
     "text": [
      "Collecting pymongo\n",
      "  Downloading pymongo-3.11.4-cp38-cp38-macosx_10_9_x86_64.whl (380 kB)\n",
      "\u001b[K     |████████████████████████████████| 380 kB 1.6 MB/s \n",
      "\u001b[?25hInstalling collected packages: pymongo\n",
      "Successfully installed pymongo-3.11.4\n"
     ]
    }
   ],
   "source": [
    "!pip install pymongo"
   ]
  },
  {
   "cell_type": "code",
   "execution_count": 7,
   "metadata": {},
   "outputs": [],
   "source": [
    "# Importing the MongoDB client to communicate with our server\n",
    "from pymongo import MongoClient"
   ]
  },
  {
   "cell_type": "code",
   "execution_count": 8,
   "metadata": {},
   "outputs": [],
   "source": [
    "# Connecting to the MongoDB server\n",
    "client = MongoClient('localhost', 27017)"
   ]
  },
  {
   "cell_type": "code",
   "execution_count": 11,
   "metadata": {},
   "outputs": [
    {
     "output_type": "execute_result",
     "data": {
      "text/plain": [
       "['zips', 'students']"
      ]
     },
     "metadata": {},
     "execution_count": 11
    }
   ],
   "source": [
    "db = client.vivadata # Connect to vivadata database\n",
    "db.list_collection_names() # Show list of collection"
   ]
  },
  {
   "cell_type": "code",
   "execution_count": 12,
   "metadata": {},
   "outputs": [],
   "source": [
    "# Select Collection\n",
    "zips = db.zips "
   ]
  },
  {
   "cell_type": "code",
   "execution_count": 13,
   "metadata": {},
   "outputs": [
    {
     "output_type": "execute_result",
     "data": {
      "text/plain": [
       "{'_id': '01010',\n",
       " 'city': 'BRIMFIELD',\n",
       " 'loc': [-72.188455, 42.116543],\n",
       " 'pop': 3706,\n",
       " 'state': 'MA'}"
      ]
     },
     "metadata": {},
     "execution_count": 13
    }
   ],
   "source": [
    "# Show one document \n",
    "zips.find_one()"
   ]
  },
  {
   "cell_type": "code",
   "execution_count": 14,
   "metadata": {},
   "outputs": [
    {
     "output_type": "execute_result",
     "data": {
      "text/plain": [
       "['ARLETA',\n",
       " 'BELL GARDENS',\n",
       " 'BRONX',\n",
       " 'BROOKLYN',\n",
       " 'CHICAGO',\n",
       " 'FONTANA',\n",
       " 'JACKSON HEIGHTS',\n",
       " 'LOS ANGELES',\n",
       " 'NEW YORK',\n",
       " 'NORWALK',\n",
       " 'PHILADELPHIA',\n",
       " 'RIDGEWOOD',\n",
       " 'SOUTH GATE',\n",
       " 'WESTLAND']"
      ]
     },
     "metadata": {},
     "execution_count": 14
    }
   ],
   "source": [
    "# List of distinct cities with zip code areas of population greater than 80 000\n",
    "## Equivalent to: db.zips.distinct() in terminal\n",
    "zips.distinct('city', {'pop': {'$gt': 80000} })"
   ]
  },
  {
   "cell_type": "code",
   "execution_count": 15,
   "metadata": {},
   "outputs": [
    {
     "output_type": "stream",
     "name": "stdout",
     "text": [
      "ARLETA\nBELL GARDENS\nBRONX\n"
     ]
    }
   ],
   "source": [
    "# This gives us the perk to take the output from MongoDB and write python on this object\n",
    "city_list = zips.distinct('city', {'pop': {'$gt': 80000} })\n",
    "for c in city_list[:3]:\n",
    "    print(c)"
   ]
  },
  {
   "cell_type": "code",
   "execution_count": 16,
   "metadata": {},
   "outputs": [
    {
     "output_type": "stream",
     "name": "stdout",
     "text": [
      "NEW YORK - 106564\nNEW YORK - 100027\nBROOKLYN - 111396\nCHICAGO - 92005\nCHICAGO - 98612\nCHICAGO - 112047\nCHICAGO - 91814\nCHICAGO - 94317\nCHICAGO - 95971\nLOS ANGELES - 96074\nBELL GARDENS - 99568\nNORWALK - 94188\n"
     ]
    }
   ],
   "source": [
    "# Select zip code areas with population exceeding 90000, but this time displaying only the city name and the population \n",
    "high_pop = zips.find({\"pop\" : {\"$gt\": 90000} }, {\"_id\": 0, \"city\": 1, \"pop\": 1})\n",
    "for city in high_pop:\n",
    "    print(\"{} - {}\".format(city['city'], city['pop']))"
   ]
  },
  {
   "cell_type": "code",
   "execution_count": null,
   "metadata": {},
   "outputs": [],
   "source": []
  }
 ]
}