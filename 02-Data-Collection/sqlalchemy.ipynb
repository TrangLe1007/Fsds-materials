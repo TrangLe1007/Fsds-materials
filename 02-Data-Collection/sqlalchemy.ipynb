{
 "metadata": {
  "language_info": {
   "codemirror_mode": {
    "name": "ipython",
    "version": 3
   },
   "file_extension": ".py",
   "mimetype": "text/x-python",
   "name": "python",
   "nbconvert_exporter": "python",
   "pygments_lexer": "ipython3",
   "version": "3.8.3"
  },
  "orig_nbformat": 4,
  "kernelspec": {
   "name": "python3",
   "display_name": "Python 3.8.3 64-bit (conda)"
  },
  "interpreter": {
   "hash": "0af6d0490f2597823f87d92aa5eca07e4b752751b56387b5dbca6d3197d35149"
  }
 },
 "nbformat": 4,
 "nbformat_minor": 2,
 "cells": [
  {
   "source": [
    "# SQL Alchemy \n",
    "\n",
    "Enable to interact with SQL on the Python script"
   ],
   "cell_type": "markdown",
   "metadata": {}
  },
  {
   "cell_type": "code",
   "execution_count": 1,
   "metadata": {},
   "outputs": [],
   "source": [
    "#!pip install SQLAlchemy"
   ]
  },
  {
   "source": [
    "## Connect to DB: Create Engine"
   ],
   "cell_type": "markdown",
   "metadata": {}
  },
  {
   "cell_type": "code",
   "execution_count": 44,
   "metadata": {},
   "outputs": [],
   "source": [
    "import sqlalchemy as db "
   ]
  },
  {
   "cell_type": "code",
   "execution_count": 45,
   "metadata": {},
   "outputs": [
    {
     "output_type": "stream",
     "name": "stdout",
     "text": [
      "Engine(sqlite:///sql/chinook.db)\n"
     ]
    }
   ],
   "source": [
    "DATABASE_URL = 'sqlite:///sql/chinook.db' ## link the the .db\n",
    "engine = db.create_engine(DATABASE_URL) ## connect to engine\n",
    "print(engine)"
   ]
  },
  {
   "cell_type": "code",
   "execution_count": 47,
   "metadata": {},
   "outputs": [
    {
     "output_type": "execute_result",
     "data": {
      "text/plain": [
       "['albums',\n",
       " 'artists',\n",
       " 'customers',\n",
       " 'employees',\n",
       " 'genres',\n",
       " 'invoice_items',\n",
       " 'invoices',\n",
       " 'media_types',\n",
       " 'playlist_track',\n",
       " 'playlists',\n",
       " 'sqlite_sequence',\n",
       " 'sqlite_stat1',\n",
       " 'tracks']"
      ]
     },
     "metadata": {},
     "execution_count": 47
    }
   ],
   "source": [
    "db.inspect(engine).get_table_names() ## show all table"
   ]
  },
  {
   "cell_type": "code",
   "execution_count": 48,
   "metadata": {},
   "outputs": [
    {
     "output_type": "execute_result",
     "data": {
      "text/plain": [
       "[{'name': 'AlbumId',\n",
       "  'type': INTEGER(),\n",
       "  'nullable': False,\n",
       "  'default': None,\n",
       "  'autoincrement': 'auto',\n",
       "  'primary_key': 1},\n",
       " {'name': 'Title',\n",
       "  'type': NVARCHAR(length=160),\n",
       "  'nullable': False,\n",
       "  'default': None,\n",
       "  'autoincrement': 'auto',\n",
       "  'primary_key': 0},\n",
       " {'name': 'ArtistId',\n",
       "  'type': INTEGER(),\n",
       "  'nullable': False,\n",
       "  'default': None,\n",
       "  'autoincrement': 'auto',\n",
       "  'primary_key': 0}]"
      ]
     },
     "metadata": {},
     "execution_count": 48
    }
   ],
   "source": [
    "db.inspect(engine).get_columns('albums')\n"
   ]
  },
  {
   "cell_type": "code",
   "execution_count": 50,
   "metadata": {},
   "outputs": [
    {
     "output_type": "execute_result",
     "data": {
      "text/plain": [
       "['AlbumId', 'Title', 'ArtistId']"
      ]
     },
     "metadata": {},
     "execution_count": 50
    }
   ],
   "source": [
    "col = []\n",
    "for c in db.inspect(engine).get_columns('albums'):\n",
    "    col.append(c['name'])\n",
    "col "
   ]
  },
  {
   "source": [
    "## Connect to DB: Create Connection"
   ],
   "cell_type": "markdown",
   "metadata": {}
  },
  {
   "cell_type": "code",
   "execution_count": 51,
   "metadata": {},
   "outputs": [],
   "source": [
    "connection = engine.connect()"
   ]
  },
  {
   "cell_type": "code",
   "execution_count": 52,
   "metadata": {},
   "outputs": [
    {
     "output_type": "execute_result",
     "data": {
      "text/plain": [
       "sqlalchemy.sql.schema.MetaData"
      ]
     },
     "metadata": {},
     "execution_count": 52
    }
   ],
   "source": [
    "metadata = db.MetaData()\n",
    "type(metadata)"
   ]
  },
  {
   "cell_type": "code",
   "execution_count": 53,
   "metadata": {},
   "outputs": [
    {
     "output_type": "execute_result",
     "data": {
      "text/plain": [
       "dict_keys([])"
      ]
     },
     "metadata": {},
     "execution_count": 53
    }
   ],
   "source": [
    "metadata.tables.keys() ## it's empty till we create the table objects"
   ]
  },
  {
   "cell_type": "code",
   "execution_count": 54,
   "metadata": {},
   "outputs": [
    {
     "output_type": "execute_result",
     "data": {
      "text/plain": [
       "[]"
      ]
     },
     "metadata": {},
     "execution_count": 54
    }
   ],
   "source": [
    "metadata.sorted_tables"
   ]
  },
  {
   "source": [
    "## Create Table Objects"
   ],
   "cell_type": "markdown",
   "metadata": {}
  },
  {
   "cell_type": "code",
   "execution_count": 55,
   "metadata": {},
   "outputs": [
    {
     "output_type": "execute_result",
     "data": {
      "text/plain": [
       "['albums',\n",
       " 'artists',\n",
       " 'customers',\n",
       " 'employees',\n",
       " 'genres',\n",
       " 'invoice_items',\n",
       " 'invoices',\n",
       " 'media_types',\n",
       " 'playlist_track',\n",
       " 'playlists',\n",
       " 'sqlite_sequence',\n",
       " 'sqlite_stat1',\n",
       " 'tracks']"
      ]
     },
     "metadata": {},
     "execution_count": 55
    }
   ],
   "source": [
    "db.inspect(engine).get_table_names()"
   ]
  },
  {
   "cell_type": "code",
   "execution_count": 56,
   "metadata": {},
   "outputs": [],
   "source": [
    "albums = db.Table('albums', metadata, autoload=True, autoload_with=engine)\n",
    "artists = db.Table('artists', metadata, autoload=True, autoload_with=engine)\n",
    "tracks = db.Table('tracks', metadata, autoload=True, autoload_with=engine)\n",
    "genres = db.Table('genres', metadata, autoload=True, autoload_with=engine)"
   ]
  },
  {
   "cell_type": "code",
   "execution_count": 57,
   "metadata": {},
   "outputs": [
    {
     "output_type": "execute_result",
     "data": {
      "text/plain": [
       "sqlalchemy.sql.schema.Table"
      ]
     },
     "metadata": {},
     "execution_count": 57
    }
   ],
   "source": [
    "type(albums)"
   ]
  },
  {
   "cell_type": "code",
   "execution_count": 59,
   "metadata": {},
   "outputs": [
    {
     "output_type": "execute_result",
     "data": {
      "text/plain": [
       "dict_keys(['albums', 'artists', 'tracks', 'genres', 'media_types'])"
      ]
     },
     "metadata": {},
     "execution_count": 59
    }
   ],
   "source": [
    "metadata.tables.keys()"
   ]
  },
  {
   "cell_type": "code",
   "execution_count": 61,
   "metadata": {},
   "outputs": [
    {
     "output_type": "execute_result",
     "data": {
      "text/plain": [
       "Table('artists', MetaData(), Column('ArtistId', INTEGER(), table=<artists>, primary_key=True, nullable=False), Column('Name', NVARCHAR(length=120), table=<artists>), schema=None)"
      ]
     },
     "metadata": {},
     "execution_count": 61
    }
   ],
   "source": [
    "metadata.sorted_tables[0]"
   ]
  },
  {
   "source": [
    "# Query in SQLAlchemy"
   ],
   "cell_type": "markdown",
   "metadata": {}
  },
  {
   "cell_type": "code",
   "execution_count": 65,
   "metadata": {},
   "outputs": [],
   "source": [
    "# Equivalent to 'SELECT * FROM albums'\n",
    "stmt = db.select([albums])\n",
    "result_proxy = connection.execute(stmt) ## return the object from class ResultProxy"
   ]
  },
  {
   "cell_type": "code",
   "execution_count": 68,
   "metadata": {},
   "outputs": [
    {
     "output_type": "execute_result",
     "data": {
      "text/plain": [
       "[(1, 'For Those About To Rock We Salute You', 1),\n",
       " (2, 'Balls to the Wall', 2),\n",
       " (3, 'Restless and Wild', 2),\n",
       " (4, 'Let There Be Rock', 1),\n",
       " (5, 'Big Ones', 3)]"
      ]
     },
     "metadata": {},
     "execution_count": 68
    }
   ],
   "source": [
    "results = result_proxy.fetchall() ## Fetch the result into a list\n",
    "results[:5]"
   ]
  },
  {
   "cell_type": "code",
   "execution_count": 69,
   "metadata": {},
   "outputs": [
    {
     "output_type": "stream",
     "name": "stdout",
     "text": [
      "347\n"
     ]
    }
   ],
   "source": [
    "print(len(results))"
   ]
  },
  {
   "source": [
    "### select()"
   ],
   "cell_type": "markdown",
   "metadata": {}
  },
  {
   "cell_type": "code",
   "execution_count": 23,
   "metadata": {},
   "outputs": [
    {
     "output_type": "stream",
     "name": "stdout",
     "text": [
      "['TrackId', 'Name', 'AlbumId', 'MediaTypeId', 'GenreId', 'Composer', 'Milliseconds', 'Bytes', 'UnitPrice']\n"
     ]
    }
   ],
   "source": [
    "## select()\n",
    "print(tracks.columns.keys())\n"
   ]
  },
  {
   "cell_type": "code",
   "execution_count": 24,
   "metadata": {},
   "outputs": [
    {
     "output_type": "stream",
     "name": "stdout",
     "text": [
      "SELECT tracks.\"Name\", tracks.\"TrackId\" \nFROM tracks\n"
     ]
    }
   ],
   "source": [
    "print(db.select([tracks.columns.Name, tracks.columns.TrackId])) ## return the syntax"
   ]
  },
  {
   "cell_type": "code",
   "execution_count": 26,
   "metadata": {},
   "outputs": [
    {
     "output_type": "execute_result",
     "data": {
      "text/plain": [
       "[(1, 'For Those About To Rock (We Salute You)', 'Angus Young, Malcolm Young, Brian Johnson'),\n",
       " (2, 'Balls to the Wall', None),\n",
       " (3, 'Fast As a Shark', 'F. Baltes, S. Kaufman, U. Dirkscneider & W. Hoffman'),\n",
       " (4, 'Restless and Wild', 'F. Baltes, R.A. Smith-Diesel, S. Kaufman, U. Dirkscneider & W. Hoffman'),\n",
       " (5, 'Princess of the Dawn', 'Deaffy & R.A. Smith-Diesel')]"
      ]
     },
     "metadata": {},
     "execution_count": 26
    }
   ],
   "source": [
    "s = db.select([tracks.columns.TrackId, tracks.columns.Name, tracks.c.Composer])\n",
    "connection.execute(s).fetchmany(5)"
   ]
  },
  {
   "source": [
    "### where()"
   ],
   "cell_type": "markdown",
   "metadata": {}
  },
  {
   "cell_type": "code",
   "execution_count": 29,
   "metadata": {},
   "outputs": [
    {
     "output_type": "stream",
     "name": "stdout",
     "text": [
      "SELECT tracks.\"TrackId\", tracks.\"Name\", tracks.\"GenreId\" \nFROM tracks \nWHERE tracks.\"GenreId\" = :GenreId_1\n"
     ]
    }
   ],
   "source": [
    "s = db.select([tracks.c.TrackId, tracks.c.Name, tracks.c.GenreId]).where(tracks.c.GenreId == 5)\n",
    "print(s)"
   ]
  },
  {
   "cell_type": "code",
   "execution_count": 30,
   "metadata": {},
   "outputs": [
    {
     "output_type": "execute_result",
     "data": {
      "text/plain": [
       "[(111, 'Money', 5),\n",
       " (112, 'Long Tall Sally', 5),\n",
       " (113, 'Bad Boy', 5),\n",
       " (114, 'Twist And Shout', 5),\n",
       " (115, 'Please Mr. Postman', 5)]"
      ]
     },
     "metadata": {},
     "execution_count": 30
    }
   ],
   "source": [
    "connection.execute(s).fetchmany(5)"
   ]
  },
  {
   "source": [
    "### group_by()"
   ],
   "cell_type": "markdown",
   "metadata": {}
  },
  {
   "cell_type": "code",
   "execution_count": 33,
   "metadata": {},
   "outputs": [
    {
     "output_type": "stream",
     "name": "stdout",
     "text": [
      "SELECT tracks.\"GenreId\", count(tracks.\"TrackId\") AS count_1 \nFROM tracks GROUP BY tracks.\"GenreId\"\n"
     ]
    }
   ],
   "source": [
    "s = db.select([tracks.c.GenreId, db.func.count(tracks)]).group_by(tracks.c.GenreId)\n",
    "print(s)"
   ]
  },
  {
   "cell_type": "code",
   "execution_count": 35,
   "metadata": {},
   "outputs": [
    {
     "output_type": "execute_result",
     "data": {
      "text/plain": [
       "[(1, 1297), (2, 130), (3, 374), (4, 332), (5, 12)]"
      ]
     },
     "metadata": {},
     "execution_count": 35
    }
   ],
   "source": [
    "connection.execute(s).fetchmany(5)"
   ]
  },
  {
   "source": [
    "### join()"
   ],
   "cell_type": "markdown",
   "metadata": {}
  },
  {
   "cell_type": "code",
   "execution_count": 36,
   "metadata": {},
   "outputs": [
    {
     "output_type": "stream",
     "name": "stdout",
     "text": [
      "SELECT tracks.\"TrackId\", tracks.\"Name\", genres.\"Name\" AS \"Name_1\" \nFROM tracks JOIN genres ON genres.\"GenreId\" = tracks.\"GenreId\" \nWHERE genres.\"Name\" = :Name_2\n"
     ]
    }
   ],
   "source": [
    "s = db.select(\n",
    "        [tracks.c.TrackId, tracks.c.Name, genres.c.Name]\n",
    "    ).select_from(tracks.join(genres)).where(genres.c.Name == \"Jazz\")\n",
    "print(s)"
   ]
  },
  {
   "cell_type": "code",
   "execution_count": 37,
   "metadata": {},
   "outputs": [
    {
     "output_type": "execute_result",
     "data": {
      "text/plain": [
       "[(63, 'Desafinado', 'Jazz'),\n",
       " (64, 'Garota De Ipanema', 'Jazz'),\n",
       " (65, 'Samba De Uma Nota Só (One Note Samba)', 'Jazz'),\n",
       " (66, 'Por Causa De Você', 'Jazz'),\n",
       " (67, 'Ligia', 'Jazz')]"
      ]
     },
     "metadata": {},
     "execution_count": 37
    }
   ],
   "source": [
    "connection.execute(s).fetchmany(5)"
   ]
  },
  {
   "source": [
    "## Use Textual SQL"
   ],
   "cell_type": "markdown",
   "metadata": {}
  },
  {
   "cell_type": "code",
   "execution_count": 70,
   "metadata": {},
   "outputs": [],
   "source": [
    "SQL_script = '''\n",
    "SELECT\n",
    "    t1.TrackId, \n",
    "    t1.name AS Track_Name,\n",
    "    t2.name AS Genres_Name\n",
    "FROM tracks AS t1\n",
    "JOIN genres AS t2 \n",
    "ON t1.GenreId = t2.GenreId\n",
    "WHERE t2.Name == 'Jazz'\n",
    "LIMIT 3\n",
    "'''\n",
    "\n",
    "s = db.sql.text(SQL_script)"
   ]
  },
  {
   "cell_type": "code",
   "execution_count": 73,
   "metadata": {},
   "outputs": [
    {
     "output_type": "execute_result",
     "data": {
      "text/plain": [
       "[(63, 'Desafinado', 'Jazz'),\n",
       " (64, 'Garota De Ipanema', 'Jazz'),\n",
       " (65, 'Samba De Uma Nota Só (One Note Samba)', 'Jazz')]"
      ]
     },
     "metadata": {},
     "execution_count": 73
    }
   ],
   "source": [
    "connection.execute(s).fetchmany(5)"
   ]
  },
  {
   "cell_type": "code",
   "execution_count": 75,
   "metadata": {},
   "outputs": [
    {
     "output_type": "stream",
     "name": "stdout",
     "text": [
      "\nSELECT\n    t1.TrackId, \n    t1.name AS Track_Name,\n    t2.name AS Genres_Name\nFROM tracks AS t1\nJOIN genres AS t2 \nON t1.GenreId = t2.GenreId\nWHERE t2.Name == 'Jazz'\nLIMIT 3\n\n"
     ]
    }
   ],
   "source": [
    "print(s)"
   ]
  },
  {
   "cell_type": "code",
   "execution_count": 76,
   "metadata": {},
   "outputs": [
    {
     "output_type": "execute_result",
     "data": {
      "text/plain": [
       "   TrackId                             Track_Name Genres_Name\n",
       "0       63                             Desafinado        Jazz\n",
       "1       64                      Garota De Ipanema        Jazz\n",
       "2       65  Samba De Uma Nota Só (One Note Samba)        Jazz"
      ],
      "text/html": "<div>\n<style scoped>\n    .dataframe tbody tr th:only-of-type {\n        vertical-align: middle;\n    }\n\n    .dataframe tbody tr th {\n        vertical-align: top;\n    }\n\n    .dataframe thead th {\n        text-align: right;\n    }\n</style>\n<table border=\"1\" class=\"dataframe\">\n  <thead>\n    <tr style=\"text-align: right;\">\n      <th></th>\n      <th>TrackId</th>\n      <th>Track_Name</th>\n      <th>Genres_Name</th>\n    </tr>\n  </thead>\n  <tbody>\n    <tr>\n      <th>0</th>\n      <td>63</td>\n      <td>Desafinado</td>\n      <td>Jazz</td>\n    </tr>\n    <tr>\n      <th>1</th>\n      <td>64</td>\n      <td>Garota De Ipanema</td>\n      <td>Jazz</td>\n    </tr>\n    <tr>\n      <th>2</th>\n      <td>65</td>\n      <td>Samba De Uma Nota Só (One Note Samba)</td>\n      <td>Jazz</td>\n    </tr>\n  </tbody>\n</table>\n</div>"
     },
     "metadata": {},
     "execution_count": 76
    }
   ],
   "source": [
    "## Pandas for much better output\n",
    "import pandas as pd \n",
    "df = pd.read_sql(s, connection)\n",
    "df"
   ]
  },
  {
   "cell_type": "code",
   "execution_count": null,
   "metadata": {},
   "outputs": [],
   "source": []
  }
 ]
}