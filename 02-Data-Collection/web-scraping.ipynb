{
 "metadata": {
  "language_info": {
   "codemirror_mode": {
    "name": "ipython",
    "version": 3
   },
   "file_extension": ".py",
   "mimetype": "text/x-python",
   "name": "python",
   "nbconvert_exporter": "python",
   "pygments_lexer": "ipython3",
   "version": "3.8.3"
  },
  "orig_nbformat": 4,
  "kernelspec": {
   "name": "python3",
   "display_name": "Python 3.8.3 64-bit (conda)"
  },
  "interpreter": {
   "hash": "0af6d0490f2597823f87d92aa5eca07e4b752751b56387b5dbca6d3197d35149"
  }
 },
 "nbformat": 4,
 "nbformat_minor": 2,
 "cells": [
  {
   "source": [
    "# Web Scraping\n"
   ],
   "cell_type": "markdown",
   "metadata": {}
  },
  {
   "source": [
    "## Behind every website\n",
    "\n",
    "* Go to [http://shakespeare.mit.edu/Poetry/sonnets.html](http://shakespeare.mit.edu/Poetry/sonnets.html)\n",
    "* On Chrome => More Tools => Developer Tools\n",
    "\n",
    "![behind-every-web.png](./images/behind-every-web.png)"
   ],
   "cell_type": "markdown",
   "metadata": {}
  },
  {
   "source": [
    "# HTML\n",
    "![word-to-html.png](./images/word-to-html.png)"
   ],
   "cell_type": "markdown",
   "metadata": {}
  },
  {
   "cell_type": "code",
   "execution_count": null,
   "metadata": {},
   "outputs": [],
   "source": [
    "# TODO: Open this page https://wordtohtml.net/\n",
    "## Try to right a paragraph\n",
    "## (1) What happen when we enter a new pararapth\n",
    "## (2) Bold. Italic? \n",
    "## (3) Bullet points?\n",
    "## (4) Hyperlink"
   ]
  },
  {
   "source": [
    "## HTML Tags\n",
    "\n",
    "![html-tags.png](./images/html-tags.png)"
   ],
   "cell_type": "markdown",
   "metadata": {}
  },
  {
   "source": [
    "## HTML attributes\n",
    "Include in the opening tags, which provide further details about the tags\n",
    "\n",
    "* `href` —> the URL for a link\n",
    "* `class` —> CSS class(es) for an element (see below)\n",
    "* `id` —> a unique id for an element\n",
    "* `src` —> the URL for an image\n",
    "* `style` —> CSS properties for an element (see below)\n"
   ],
   "cell_type": "markdown",
   "metadata": {}
  },
  {
   "source": [
    "## CSS\n",
    "* HTML is about the structure and contents\n",
    "* CSS provide the styles\n",
    "\n",
    "![style-css.png](./images/style-css.png)"
   ],
   "cell_type": "markdown",
   "metadata": {}
  },
  {
   "source": [
    "## Scraping with Python"
   ],
   "cell_type": "markdown",
   "metadata": {}
  },
  {
   "source": [
    "## `Requests` the HTML source code"
   ],
   "cell_type": "markdown",
   "metadata": {}
  },
  {
   "cell_type": "code",
   "execution_count": 67,
   "metadata": {},
   "outputs": [
    {
     "output_type": "execute_result",
     "data": {
      "text/plain": [
       "200"
      ]
     },
     "metadata": {},
     "execution_count": 67
    }
   ],
   "source": [
    "import requests\n",
    "# Send a GET request to a regular URL (not an API this time)\n",
    "response = requests.get(\"https://en.wikipedia.org/wiki/Python_(programming_language)\")\n",
    "response.status_code ## Status"
   ]
  },
  {
   "cell_type": "code",
   "execution_count": 70,
   "metadata": {},
   "outputs": [
    {
     "output_type": "execute_result",
     "data": {
      "text/plain": [
       "'<!DOCTYPE html>\\n<html class=\"client-nojs\" lang=\"en\" dir=\"ltr\">\\n<head>\\n<meta charset=\"UTF-8\"/>\\n<title>Python (programming language) - Wikipedia</title>\\n<script>document.documentElement.className=\"client-js\";RLCONF={\"wgBreakFrames\":!1,\"wgSeparatorTransformTable\":[\"\",\"\"],\"wgDigitTransformTable\":[\"\",\"\"],\"wgDefaultDateFormat\":\"dmy\",\"wgMonthNames\":[\"\",\"January\",\"February\",\"March\",\"April\",\"May\",\"June\",\"July\",\"August\",\"September\",\"October\",\"November\",\"December\"],\"wgRequestId\":\"c0d9a525-c939-4094-9b8f-b6'"
      ]
     },
     "metadata": {},
     "execution_count": 70
    }
   ],
   "source": [
    "response.text[:500]"
   ]
  },
  {
   "cell_type": "code",
   "execution_count": 72,
   "metadata": {},
   "outputs": [
    {
     "output_type": "execute_result",
     "data": {
      "text/plain": [
       "'/Users/danghuynhmaianh/Documents/GitHub/fsds-courses/02-Data-Collection'"
      ]
     },
     "metadata": {},
     "execution_count": 72
    }
   ],
   "source": [
    "import os \n",
    "os.getcwd()"
   ]
  },
  {
   "cell_type": "code",
   "execution_count": 73,
   "metadata": {},
   "outputs": [
    {
     "output_type": "execute_result",
     "data": {
      "text/plain": [
       "['images',\n",
       " 'output',\n",
       " 'web-scraping.ipynb',\n",
       " 'api-json.ipynb',\n",
       " 'fileio-csv.ipynb',\n",
       " 'data']"
      ]
     },
     "metadata": {},
     "execution_count": 73
    }
   ],
   "source": [
    "os.listdir()"
   ]
  },
  {
   "cell_type": "code",
   "execution_count": 75,
   "metadata": {},
   "outputs": [],
   "source": [
    "## Write the content to html file\n",
    "with open('output/wikipedia.html', 'w') as f:\n",
    "    f.write(response.text) "
   ]
  },
  {
   "cell_type": "code",
   "execution_count": 10,
   "metadata": {},
   "outputs": [
    {
     "output_type": "stream",
     "name": "stdout",
     "text": [
      "paris_iss.json wikipedia.html\n"
     ]
    }
   ],
   "source": [
    "!ls output "
   ]
  },
  {
   "cell_type": "code",
   "execution_count": null,
   "metadata": {},
   "outputs": [],
   "source": [
    "#TODO: Check the wikipedia.html file. Install html preview extension in VSCode => preview"
   ]
  },
  {
   "source": [
    "## Parse HTML with `BeautifulSoup`\n",
    "* Without the BeautifulSoup, it looks like a jungle.\n",
    "* How can we extract, knowing key-value"
   ],
   "cell_type": "markdown",
   "metadata": {}
  },
  {
   "cell_type": "code",
   "execution_count": 76,
   "metadata": {},
   "outputs": [],
   "source": [
    "from bs4 import BeautifulSoup"
   ]
  },
  {
   "cell_type": "code",
   "execution_count": 99,
   "metadata": {},
   "outputs": [
    {
     "output_type": "execute_result",
     "data": {
      "text/plain": [
       "str"
      ]
     },
     "metadata": {},
     "execution_count": 99
    }
   ],
   "source": [
    "type(response.text)"
   ]
  },
  {
   "cell_type": "code",
   "execution_count": 79,
   "metadata": {},
   "outputs": [],
   "source": [
    "soup = BeautifulSoup(response.text)"
   ]
  },
  {
   "cell_type": "code",
   "execution_count": 81,
   "metadata": {},
   "outputs": [
    {
     "output_type": "execute_result",
     "data": {
      "text/plain": [
       "bs4.BeautifulSoup"
      ]
     },
     "metadata": {},
     "execution_count": 81
    }
   ],
   "source": [
    "type(soup)"
   ]
  },
  {
   "source": [
    "## `Tag` methods"
   ],
   "cell_type": "markdown",
   "metadata": {}
  },
  {
   "cell_type": "code",
   "execution_count": null,
   "metadata": {},
   "outputs": [],
   "source": [
    "#TODO: Ctrl+F it in wikiperdia.html file"
   ]
  },
  {
   "cell_type": "code",
   "execution_count": 82,
   "metadata": {},
   "outputs": [
    {
     "output_type": "execute_result",
     "data": {
      "text/plain": [
       "'<h1 class=\"firstHeading\" id=\"firstHeading\">Python (programming language)</h1>'"
      ]
     },
     "metadata": {},
     "execution_count": 82
    }
   ],
   "source": [
    "title = soup.find('h1')\n",
    "str(title)"
   ]
  },
  {
   "cell_type": "code",
   "execution_count": 83,
   "metadata": {},
   "outputs": [
    {
     "output_type": "execute_result",
     "data": {
      "text/plain": [
       "bs4.element.Tag"
      ]
     },
     "metadata": {},
     "execution_count": 83
    }
   ],
   "source": [
    "type(title)"
   ]
  },
  {
   "cell_type": "code",
   "execution_count": 21,
   "metadata": {},
   "outputs": [
    {
     "output_type": "execute_result",
     "data": {
      "text/plain": [
       "['Python (programming language)']"
      ]
     },
     "metadata": {},
     "execution_count": 21
    }
   ],
   "source": [
    "title.contents "
   ]
  },
  {
   "cell_type": "code",
   "execution_count": 23,
   "metadata": {},
   "outputs": [
    {
     "output_type": "execute_result",
     "data": {
      "text/plain": [
       "[<a id=\"top\"></a>,\n",
       " <a href=\"/wiki/Wikipedia:Good_articles\" title=\"This is a good article. Click here for more information.\"><img alt=\"This is a good article. Click here for more information.\" data-file-height=\"185\" data-file-width=\"180\" decoding=\"async\" height=\"20\" src=\"//upload.wikimedia.org/wikipedia/en/thumb/9/94/Symbol_support_vote.svg/19px-Symbol_support_vote.svg.png\" srcset=\"//upload.wikimedia.org/wikipedia/en/thumb/9/94/Symbol_support_vote.svg/29px-Symbol_support_vote.svg.png 1.5x, //upload.wikimedia.org/wikipedia/en/thumb/9/94/Symbol_support_vote.svg/39px-Symbol_support_vote.svg.png 2x\" width=\"19\"/></a>,\n",
       " <a class=\"mw-jump-link\" href=\"#mw-head\">Jump to navigation</a>,\n",
       " <a class=\"mw-jump-link\" href=\"#searchInput\">Jump to search</a>,\n",
       " <a class=\"mw-redirect mw-disambig\" href=\"/wiki/Python_(disambiguation)\" title=\"Python (disambiguation)\">Python (disambiguation)</a>]"
      ]
     },
     "metadata": {},
     "execution_count": 23
    }
   ],
   "source": [
    "# Find all Hyperlink (tag: a)\n",
    "links = soup.find_all('a')\n",
    "links[:5]"
   ]
  },
  {
   "cell_type": "code",
   "execution_count": 24,
   "metadata": {},
   "outputs": [
    {
     "output_type": "stream",
     "name": "stdout",
     "text": [
      "[<a class=\"mw-jump-link\" href=\"#mw-head\">Jump to navigation</a>, <a class=\"mw-jump-link\" href=\"#searchInput\">Jump to search</a>]\n"
     ]
    }
   ],
   "source": [
    "# You can also pass attributes to your filter\n",
    "mw_jump_links = soup.find_all('a', {'class': 'mw-jump-link'})\n",
    "print(mw_jump_links)"
   ]
  },
  {
   "cell_type": "code",
   "execution_count": 88,
   "metadata": {},
   "outputs": [
    {
     "output_type": "stream",
     "name": "stdout",
     "text": [
      "[<span class=\"mw-headline\" id=\"History\">History</span>]\n"
     ]
    }
   ],
   "source": [
    "# You can even filter with a list of tags\n",
    "h2_and_h3 = soup.find_all(['h2', 'h3','span'],{'id': 'History'})\n",
    "print(h2_and_h3[:5])"
   ]
  },
  {
   "cell_type": "code",
   "execution_count": 90,
   "metadata": {
    "tags": []
   },
   "outputs": [
    {
     "output_type": "stream",
     "name": "stdout",
     "text": [
      "<div class=\"mw-indicator\" id=\"mw-indicator-good-star\"><a href=\"/wiki/Wikipedia:Good_articles\" title=\"This is a good article. Click here for more information.\"><img alt=\"This is a good article. Click here for more information.\" data-file-height=\"185\" data-file-width=\"180\" decoding=\"async\" height=\"20\" src=\"//upload.wikimedia.org/wikipedia/en/thumb/9/94/Symbol_support_vote.svg/19px-Symbol_support_vote.svg.png\" srcset=\"//upload.wikimedia.org/wikipedia/en/thumb/9/94/Symbol_support_vote.svg/29px-Symbol_support_vote.svg.png 1.5x, //upload.wikimedia.org/wikipedia/en/thumb/9/94/Symbol_support_vote.svg/39px-Symbol_support_vote.svg.png 2x\" width=\"19\"/></a></div>\n"
     ]
    }
   ],
   "source": [
    "# To find all the tags that have an `id`:\n",
    "has_id = soup.find_all(id=True)\n",
    "print(has_id[5])"
   ]
  },
  {
   "cell_type": "code",
   "execution_count": 95,
   "metadata": {},
   "outputs": [
    {
     "output_type": "execute_result",
     "data": {
      "text/plain": [
       "bs4.element.Tag"
      ]
     },
     "metadata": {},
     "execution_count": 95
    }
   ],
   "source": [
    "type(has_id[5])"
   ]
  },
  {
   "cell_type": "code",
   "execution_count": 118,
   "metadata": {},
   "outputs": [
    {
     "output_type": "stream",
     "name": "stdout",
     "text": [
      "This is a good article. Click here for more information.\n"
     ]
    }
   ],
   "source": [
    "for e in has_id[5].contents:\n",
    "    e2 = e.contents\n",
    "    print(e2[0]['alt'])"
   ]
  },
  {
   "cell_type": "code",
   "execution_count": 101,
   "metadata": {},
   "outputs": [
    {
     "output_type": "execute_result",
     "data": {
      "text/plain": [
       "[[<img alt=\"This is a good article. Click here for more information.\" data-file-height=\"185\" data-file-width=\"180\" decoding=\"async\" height=\"20\" src=\"//upload.wikimedia.org/wikipedia/en/thumb/9/94/Symbol_support_vote.svg/19px-Symbol_support_vote.svg.png\" srcset=\"//upload.wikimedia.org/wikipedia/en/thumb/9/94/Symbol_support_vote.svg/29px-Symbol_support_vote.svg.png 1.5x, //upload.wikimedia.org/wikipedia/en/thumb/9/94/Symbol_support_vote.svg/39px-Symbol_support_vote.svg.png 2x\" width=\"19\"/>]]"
      ]
     },
     "metadata": {},
     "execution_count": 101
    }
   ],
   "source": [
    "[e.contents for e in has_id[5].contents] ## Remove 1 layer of tags"
   ]
  },
  {
   "cell_type": "code",
   "execution_count": null,
   "metadata": {},
   "outputs": [],
   "source": []
  },
  {
   "source": [
    "## `Tag` Attributes"
   ],
   "cell_type": "markdown",
   "metadata": {}
  },
  {
   "cell_type": "code",
   "execution_count": 91,
   "metadata": {},
   "outputs": [
    {
     "output_type": "execute_result",
     "data": {
      "text/plain": [
       "[<a class=\"mw-jump-link\" href=\"#mw-head\">Jump to navigation</a>,\n",
       " <a class=\"mw-jump-link\" href=\"#searchInput\">Jump to search</a>]"
      ]
     },
     "metadata": {},
     "execution_count": 91
    }
   ],
   "source": [
    "mw_jump_links"
   ]
  },
  {
   "cell_type": "code",
   "execution_count": 121,
   "metadata": {},
   "outputs": [
    {
     "output_type": "stream",
     "name": "stdout",
     "text": [
      "#mw-head\n#searchInput\n"
     ]
    }
   ],
   "source": [
    "for link in mw_jump_links:\n",
    "    print(link['href'])"
   ]
  },
  {
   "cell_type": "code",
   "execution_count": 30,
   "metadata": {},
   "outputs": [
    {
     "output_type": "stream",
     "name": "stdout",
     "text": [
      "<a class=\"mw-jump-link\" href=\"#mw-head\">Jump to navigation</a>\n#mw-head\n['Jump to navigation']\n"
     ]
    }
   ],
   "source": [
    "sample_link = mw_jump_links[0]\n",
    "print(sample_link)\n",
    "print(sample_link['href'])  # Access a tag attribute with the dictionnary interface\n",
    "print(sample_link.contents)  # Access the list of content in a tag."
   ]
  },
  {
   "cell_type": "code",
   "execution_count": 33,
   "metadata": {},
   "outputs": [
    {
     "output_type": "execute_result",
     "data": {
      "text/plain": [
       "[<a id=\"top\"></a>,\n",
       " <a href=\"/wiki/Wikipedia:Good_articles\" title=\"This is a good article. Click here for more information.\"><img alt=\"This is a good article. Click here for more information.\" data-file-height=\"185\" data-file-width=\"180\" decoding=\"async\" height=\"20\" src=\"//upload.wikimedia.org/wikipedia/en/thumb/9/94/Symbol_support_vote.svg/19px-Symbol_support_vote.svg.png\" srcset=\"//upload.wikimedia.org/wikipedia/en/thumb/9/94/Symbol_support_vote.svg/29px-Symbol_support_vote.svg.png 1.5x, //upload.wikimedia.org/wikipedia/en/thumb/9/94/Symbol_support_vote.svg/39px-Symbol_support_vote.svg.png 2x\" width=\"19\"/></a>,\n",
       " <a class=\"mw-jump-link\" href=\"#mw-head\">Jump to navigation</a>,\n",
       " <a class=\"mw-jump-link\" href=\"#searchInput\">Jump to search</a>,\n",
       " <a class=\"mw-redirect mw-disambig\" href=\"/wiki/Python_(disambiguation)\" title=\"Python (disambiguation)\">Python (disambiguation)</a>]"
      ]
     },
     "metadata": {},
     "execution_count": 33
    }
   ],
   "source": [
    "links[:5]"
   ]
  },
  {
   "cell_type": "code",
   "execution_count": 31,
   "metadata": {},
   "outputs": [
    {
     "output_type": "stream",
     "name": "stdout",
     "text": [
      "[None, '/wiki/Wikipedia:Good_articles', '#mw-head', '#searchInput', '/wiki/Python_(disambiguation)', '/wiki/File:Python_logo_and_wordmark.svg', '/wiki/Programming_paradigm', '/wiki/Multi-paradigm_programming_language', '/wiki/Object-oriented_programming', '#cite_note-1']\n"
     ]
    }
   ],
   "source": [
    "targets = [link.get('href') for link in links]\n",
    "print(targets[:10])"
   ]
  },
  {
   "source": [
    "## Exercise: The Sonnets"
   ],
   "cell_type": "markdown",
   "metadata": {}
  },
  {
   "cell_type": "code",
   "execution_count": 54,
   "metadata": {},
   "outputs": [
    {
     "output_type": "execute_result",
     "data": {
      "text/plain": [
       "200"
      ]
     },
     "metadata": {},
     "execution_count": 54
    }
   ],
   "source": [
    "# TODO: Go to the website poetry and check the HTML structure by Developer Tools\n",
    "shakespear_path = \"http://shakespeare.mit.edu/Poetry/\"\n",
    "response = requests.get(\"http://shakespeare.mit.edu/Poetry/sonnets.html\") # User requests to pul html data\n",
    "response.status_code ## Status"
   ]
  },
  {
   "cell_type": "code",
   "execution_count": 38,
   "metadata": {},
   "outputs": [
    {
     "output_type": "execute_result",
     "data": {
      "text/plain": [
       "'<HTML>\\n<HEAD>\\n<TITLE>\\nThe Sonnets\\n</TITLE>\\n</HEAD>\\n<BODY>\\n<H1>The Sonnets</H1>\\n\\n<p>You can buy the Arden text of these sonnets from the Amazon.com online bookstore: <a href=\"http://www.amazon.com/gp/product/1903436575?ie=UTF8&tag=theinteclasar-20&linkCode=as2&camp=1789&creative=9325&creativeASIN=1903436575\">Shakespeare\\'s Sonnets (Arden Shakespeare: Third Series)</a><img src=\"http://www.assoc-amazon.com/e/ir?t=theinteclasar-20&l=as2&o=1&a=1903436575\" width=\"1\" height=\"1\" border=\"0\" alt=\"\" style=\"'"
      ]
     },
     "metadata": {},
     "execution_count": 38
    }
   ],
   "source": [
    "response.text[:500] ## Quick check the content of response"
   ]
  },
  {
   "cell_type": "code",
   "execution_count": 44,
   "metadata": {},
   "outputs": [],
   "source": [
    "poem_soup = BeautifulSoup(response.text) ## Convert the response to BS structure"
   ]
  },
  {
   "cell_type": "code",
   "execution_count": 50,
   "metadata": {},
   "outputs": [
    {
     "output_type": "execute_result",
     "data": {
      "text/plain": [
       "[<a href=\"http://www.amazon.com/gp/product/1903436575?ie=UTF8&amp;tag=theinteclasar-20&amp;linkCode=as2&amp;camp=1789&amp;creative=9325&amp;creativeASIN=1903436575\">Shakespeare's Sonnets (Arden Shakespeare: Third Series)</a>,\n",
       " <a href=\"sonnet.I.html\">I. FROM fairest creatures we desire increase,</a>,\n",
       " <a href=\"sonnet.II.html\">II. When forty winters shall beseige thy brow,</a>,\n",
       " <a href=\"sonnet.III.html\">III. Look in thy glass, and tell the face thou viewest</a>,\n",
       " <a href=\"sonnet.IV.html\">IV. Unthrifty loveliness, why dost thou spend</a>]"
      ]
     },
     "metadata": {},
     "execution_count": 50
    }
   ],
   "source": [
    "poem_links = poem_soup.find_all('a') ## Find all hyperlink\n",
    "poem_links[:5] #3 Check teh first 5"
   ]
  },
  {
   "cell_type": "code",
   "execution_count": 52,
   "metadata": {},
   "outputs": [
    {
     "output_type": "execute_result",
     "data": {
      "text/plain": [
       "[[\"Shakespeare's Sonnets (Arden Shakespeare: Third Series)\"],\n",
       " ['I. FROM fairest creatures we desire increase,'],\n",
       " ['II. When forty winters shall beseige thy brow,'],\n",
       " ['III. Look in thy glass, and tell the face thou viewest'],\n",
       " ['IV. Unthrifty loveliness, why dost thou spend']]"
      ]
     },
     "metadata": {},
     "execution_count": 52
    }
   ],
   "source": [
    "[l.contents for l in poem_links][:5] ## Extract the contents in each links"
   ]
  },
  {
   "cell_type": "code",
   "execution_count": null,
   "metadata": {},
   "outputs": [],
   "source": [
    "#TODO: Check the code below\n",
    "## 1. Now take the href part (by BS)\n",
    "## 2. Add the href after shakespear_path, request.get the data and print our\n",
    "## NOW, modify that code to\n",
    "## 1. Take the last 5 poem in the list\n",
    "## 2. Print out the contents"
   ]
  },
  {
   "cell_type": "code",
   "execution_count": 125,
   "metadata": {},
   "outputs": [
    {
     "output_type": "execute_result",
     "data": {
      "text/plain": [
       "200"
      ]
     },
     "metadata": {},
     "execution_count": 125
    }
   ],
   "source": [
    "shakespear_path\n",
    "response = requests.get(shakespear_path + 'sonnet.CLIV.html')\n",
    "response.status_code ## Status"
   ]
  },
  {
   "cell_type": "code",
   "execution_count": 126,
   "metadata": {},
   "outputs": [
    {
     "output_type": "stream",
     "name": "stdout",
     "text": [
      "<HTML><HEAD><TITLE>Sonnet CLIV</TITLE></HEAD>\n<BODY><H1>Sonnet CLIV</H1>\n\n<BLOCKQUOTE>The little Love-god lying once asleep<BR>\nLaid by his side his heart-inflaming brand,<BR>\nWhilst many nymphs that vow'd chaste life to keep<BR>\nCame tripping by; but in her maiden hand<BR>\nThe fairest votary took up that fire<BR>\nWhich many legions of true hearts had warm'd;<BR>\nAnd so the general of hot desire<BR>\nWas sleeping by a virgin hand disarm'd.<BR>\nThis brand she quenched in a cool well by,<BR>\nWhich from Love's fire took heat perpetual,<BR>\nGrowing a bath and healthful remedy<BR>\nFor men diseased; but I, my mistress' thrall,<BR>\n  Came there for cure, and this by that I prove,<BR>\n  Love's fire heats water, water cools not love.<BR>\n\n"
     ]
    }
   ],
   "source": [
    "print(response.text)"
   ]
  },
  {
   "cell_type": "code",
   "execution_count": 124,
   "metadata": {},
   "outputs": [
    {
     "output_type": "stream",
     "name": "stdout",
     "text": [
      "http://shakespeare.mit.edu/Poetry/sonnet.CLIV.html\n"
     ]
    }
   ],
   "source": [
    "print(shakespear_path + 'sonnet.CLIV.html')"
   ]
  },
  {
   "cell_type": "code",
   "execution_count": 128,
   "metadata": {},
   "outputs": [
    {
     "output_type": "execute_result",
     "data": {
      "text/plain": [
       "'http://shakespeare.mit.edu/Poetry/sonnet.CLIV.html'"
      ]
     },
     "metadata": {},
     "execution_count": 128
    }
   ],
   "source": [
    "'http://shakespeare.mit.edu/Poetry/{}'.format('sonnet.CLIV.html')"
   ]
  },
  {
   "cell_type": "code",
   "execution_count": null,
   "metadata": {},
   "outputs": [],
   "source": []
  }
 ]
}