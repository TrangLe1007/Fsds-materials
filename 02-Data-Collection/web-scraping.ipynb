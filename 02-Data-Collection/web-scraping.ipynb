{
 "cells": [
  {
   "cell_type": "markdown",
   "metadata": {},
   "source": [
    "# Web Scraping\n"
   ]
  },
  {
   "cell_type": "markdown",
   "metadata": {},
   "source": [
    "## Behind every website\n",
    "\n",
    "* Go to [http://shakespeare.mit.edu/Poetry/sonnets.html](http://shakespeare.mit.edu/Poetry/sonnets.html)\n",
    "* On Chrome => More Tools => Developer Tools\n",
    "\n",
    "![behind-every-web.png](./images/behind-every-web.png)"
   ]
  },
  {
   "cell_type": "markdown",
   "metadata": {},
   "source": [
    "# HTML\n",
    "![word-to-html.png](./images/word-to-html.png)"
   ]
  },
  {
   "cell_type": "code",
   "execution_count": null,
   "metadata": {},
   "outputs": [],
   "source": [
    "# TODO: Open this page https://wordtohtml.net/\n",
    "## Try to right a paragraph\n",
    "## (1) What happen when we enter a new pararapth\n",
    "## (2) Bold. Italic? \n",
    "## (3) Bullet points?\n",
    "## (4) Hyperlink"
   ]
  },
  {
   "cell_type": "markdown",
   "metadata": {},
   "source": [
    "## HTML Tags\n",
    "\n",
    "![html-tags.png](./images/html-tags.png)"
   ]
  },
  {
   "cell_type": "markdown",
   "metadata": {},
   "source": [
    "## HTML attributes\n",
    "Include in the opening tags, which provide further details about the tags\n",
    "\n",
    "* `href` —> the URL for a link\n",
    "* `class` —> CSS class(es) for an element (see below)\n",
    "* `id` —> a unique id for an element\n",
    "* `src` —> the URL for an image\n",
    "* `style` —> CSS properties for an element (see below)\n"
   ]
  },
  {
   "cell_type": "markdown",
   "metadata": {},
   "source": [
    "## CSS\n",
    "* HTML is about the structure and contents\n",
    "* CSS provide the styles\n",
    "\n",
    "![style-css.png](./images/style-css.png)"
   ]
  },
  {
   "cell_type": "markdown",
   "metadata": {},
   "source": [
    "## Scraping with Python"
   ]
  },
  {
   "cell_type": "markdown",
   "metadata": {},
   "source": [
    "## `Requests` the HTML source code"
   ]
  },
  {
   "cell_type": "code",
   "execution_count": 6,
   "metadata": {},
   "outputs": [
    {
     "data": {
      "text/plain": [
       "200"
      ]
     },
     "execution_count": 6,
     "metadata": {},
     "output_type": "execute_result"
    }
   ],
   "source": [
    "import requests\n",
    "# Send a GET request to a regular URL (not an API this time)\n",
    "response = requests.get(\"https://en.wikipedia.org/wiki/Python_(programming_language)\")\n",
    "response.status_code ## Status"
   ]
  },
  {
   "cell_type": "code",
   "execution_count": 8,
   "metadata": {},
   "outputs": [
    {
     "data": {
      "text/plain": [
       "'<!DOCTYPE html>\\n<html class=\"client-nojs\" lang=\"en\" dir=\"ltr\">\\n<head>\\n<meta charset=\"UTF-8\"/>\\n<title>Python (programming language) - Wikipedia</title>\\n<script>document.documentElement.className=\"client-js\";RLCONF={\"wgBreakFrames\":!1,\"wgSeparatorTransformTable\":[\"\",\"\"],\"wgDigitTransformTable\":[\"\",\"\"],\"wgDefaultDateFormat\":\"dmy\",\"wgMonthNames\":[\"\",\"January\",\"February\",\"March\",\"April\",\"May\",\"June\",\"July\",\"August\",\"September\",\"October\",\"November\",\"December\"],\"wgRequestId\":\"c0d9a525-c939-4094-9b8f-b6'"
      ]
     },
     "execution_count": 8,
     "metadata": {},
     "output_type": "execute_result"
    }
   ],
   "source": [
    "response.text[:500]"
   ]
  },
  {
   "cell_type": "code",
   "execution_count": 9,
   "metadata": {},
   "outputs": [],
   "source": [
    "## Write the content to html file\n",
    "with open('output/wikipedia.html', 'w') as f:\n",
    "    f.write(response.text) "
   ]
  },
  {
   "cell_type": "code",
   "execution_count": 10,
   "metadata": {},
   "outputs": [
    {
     "name": "stdout",
     "output_type": "stream",
     "text": [
      "paris_iss.json wikipedia.html\n"
     ]
    }
   ],
   "source": [
    "!ls output "
   ]
  },
  {
   "cell_type": "code",
   "execution_count": null,
   "metadata": {},
   "outputs": [],
   "source": [
    "#TODO: Check the wikipedia.html file. Install html preview extension in VSCode => preview"
   ]
  },
  {
   "cell_type": "markdown",
   "metadata": {},
   "source": [
    "## Parse HTML with `BeautifulSoup`\n",
    "* Without the BeautifulSoup, it looks like a jungle.\n",
    "* How can we extract, knowing key-value"
   ]
  },
  {
   "cell_type": "code",
   "execution_count": 11,
   "metadata": {},
   "outputs": [],
   "source": [
    "from bs4 import BeautifulSoup"
   ]
  },
  {
   "cell_type": "code",
   "execution_count": 27,
   "metadata": {},
   "outputs": [],
   "source": [
    "soup = BeautifulSoup(response.text)"
   ]
  },
  {
   "cell_type": "markdown",
   "metadata": {},
   "source": [
    "## `Tag` methods"
   ]
  },
  {
   "cell_type": "code",
   "execution_count": null,
   "metadata": {},
   "outputs": [],
   "source": [
    "#TODO: Ctrl+F it in wikiperdia.html file"
   ]
  },
  {
   "cell_type": "code",
   "execution_count": 1,
   "metadata": {},
   "outputs": [
    {
     "ename": "NameError",
     "evalue": "name 'soup' is not defined",
     "output_type": "error",
     "traceback": [
      "\u001b[1;31m---------------------------------------------------------------------------\u001b[0m",
      "\u001b[1;31mNameError\u001b[0m                                 Traceback (most recent call last)",
      "\u001b[1;32m<ipython-input-1-b5ec2b068b74>\u001b[0m in \u001b[0;36m<module>\u001b[1;34m\u001b[0m\n\u001b[1;32m----> 1\u001b[1;33m \u001b[0mtitle\u001b[0m \u001b[1;33m=\u001b[0m \u001b[0msoup\u001b[0m\u001b[1;33m.\u001b[0m\u001b[0mfind\u001b[0m\u001b[1;33m(\u001b[0m\u001b[1;34m'h1'\u001b[0m\u001b[1;33m)\u001b[0m\u001b[1;33m\u001b[0m\u001b[1;33m\u001b[0m\u001b[0m\n\u001b[0m\u001b[0;32m      2\u001b[0m \u001b[0mstr\u001b[0m\u001b[1;33m(\u001b[0m\u001b[0mtitle\u001b[0m\u001b[1;33m)\u001b[0m\u001b[1;33m\u001b[0m\u001b[1;33m\u001b[0m\u001b[0m\n",
      "\u001b[1;31mNameError\u001b[0m: name 'soup' is not defined"
     ]
    }
   ],
   "source": [
    "title = soup.find('h1')\n",
    "str(title)"
   ]
  },
  {
   "cell_type": "code",
   "execution_count": 20,
   "metadata": {},
   "outputs": [
    {
     "data": {
      "text/plain": [
       "bs4.element.Tag"
      ]
     },
     "execution_count": 20,
     "metadata": {},
     "output_type": "execute_result"
    }
   ],
   "source": [
    "type(title)"
   ]
  },
  {
   "cell_type": "code",
   "execution_count": 21,
   "metadata": {},
   "outputs": [
    {
     "data": {
      "text/plain": [
       "['Python (programming language)']"
      ]
     },
     "execution_count": 21,
     "metadata": {},
     "output_type": "execute_result"
    }
   ],
   "source": [
    "title.contents "
   ]
  },
  {
   "cell_type": "code",
   "execution_count": 23,
   "metadata": {},
   "outputs": [
    {
     "data": {
      "text/plain": [
       "[<a id=\"top\"></a>,\n",
       " <a href=\"/wiki/Wikipedia:Good_articles\" title=\"This is a good article. Click here for more information.\"><img alt=\"This is a good article. Click here for more information.\" data-file-height=\"185\" data-file-width=\"180\" decoding=\"async\" height=\"20\" src=\"//upload.wikimedia.org/wikipedia/en/thumb/9/94/Symbol_support_vote.svg/19px-Symbol_support_vote.svg.png\" srcset=\"//upload.wikimedia.org/wikipedia/en/thumb/9/94/Symbol_support_vote.svg/29px-Symbol_support_vote.svg.png 1.5x, //upload.wikimedia.org/wikipedia/en/thumb/9/94/Symbol_support_vote.svg/39px-Symbol_support_vote.svg.png 2x\" width=\"19\"/></a>,\n",
       " <a class=\"mw-jump-link\" href=\"#mw-head\">Jump to navigation</a>,\n",
       " <a class=\"mw-jump-link\" href=\"#searchInput\">Jump to search</a>,\n",
       " <a class=\"mw-redirect mw-disambig\" href=\"/wiki/Python_(disambiguation)\" title=\"Python (disambiguation)\">Python (disambiguation)</a>]"
      ]
     },
     "execution_count": 23,
     "metadata": {},
     "output_type": "execute_result"
    }
   ],
   "source": [
    "# Find all Hyperlink (tag: a)\n",
    "links = soup.find_all('a')\n",
    "links[:5]"
   ]
  },
  {
   "cell_type": "code",
   "execution_count": 24,
   "metadata": {},
   "outputs": [
    {
     "name": "stdout",
     "output_type": "stream",
     "text": [
      "[<a class=\"mw-jump-link\" href=\"#mw-head\">Jump to navigation</a>, <a class=\"mw-jump-link\" href=\"#searchInput\">Jump to search</a>]\n"
     ]
    }
   ],
   "source": [
    "# You can also pass attributes to your filter\n",
    "mw_jump_links = soup.find_all('a', {'class': 'mw-jump-link'})\n",
    "print(mw_jump_links)"
   ]
  },
  {
   "cell_type": "code",
   "execution_count": 25,
   "metadata": {},
   "outputs": [
    {
     "name": "stdout",
     "output_type": "stream",
     "text": [
      "[<h2 id=\"mw-toc-heading\">Contents</h2>, <h2><span class=\"mw-headline\" id=\"History\">History</span><span class=\"mw-editsection\"><span class=\"mw-editsection-bracket\">[</span><a href=\"/w/index.php?title=Python_(programming_language)&amp;action=edit&amp;section=1\" title=\"Edit section: History\">edit</a><span class=\"mw-editsection-bracket\">]</span></span></h2>, <h2><span class=\"mw-headline\" id=\"Design_philosophy_and_features\">Design philosophy and features</span><span class=\"mw-editsection\"><span class=\"mw-editsection-bracket\">[</span><a href=\"/w/index.php?title=Python_(programming_language)&amp;action=edit&amp;section=2\" title=\"Edit section: Design philosophy and features\">edit</a><span class=\"mw-editsection-bracket\">]</span></span></h2>, <h2><span class=\"mw-headline\" id=\"Syntax_and_semantics\">Syntax and semantics</span><span class=\"mw-editsection\"><span class=\"mw-editsection-bracket\">[</span><a href=\"/w/index.php?title=Python_(programming_language)&amp;action=edit&amp;section=3\" title=\"Edit section: Syntax and semantics\">edit</a><span class=\"mw-editsection-bracket\">]</span></span></h2>, <h3><span class=\"mw-headline\" id=\"Indentation\">Indentation</span><span class=\"mw-editsection\"><span class=\"mw-editsection-bracket\">[</span><a href=\"/w/index.php?title=Python_(programming_language)&amp;action=edit&amp;section=4\" title=\"Edit section: Indentation\">edit</a><span class=\"mw-editsection-bracket\">]</span></span></h3>]\n"
     ]
    }
   ],
   "source": [
    "# You can even filter with a list of tags\n",
    "h2_and_h3 = soup.find_all(['h2', 'h3'])\n",
    "print(h2_and_h3[:5])"
   ]
  },
  {
   "cell_type": "code",
   "execution_count": 26,
   "metadata": {},
   "outputs": [
    {
     "name": "stdout",
     "output_type": "stream",
     "text": [
      "<div id=\"siteNotice\"><!-- CentralNotice --></div>\n"
     ]
    }
   ],
   "source": [
    "# To find all the tags that have an `id`:\n",
    "has_id = soup.find_all(id=True)\n",
    "print(has_id[4])"
   ]
  },
  {
   "cell_type": "markdown",
   "metadata": {},
   "source": [
    "## `Tag` Attributes"
   ]
  },
  {
   "cell_type": "code",
   "execution_count": 30,
   "metadata": {},
   "outputs": [
    {
     "name": "stdout",
     "output_type": "stream",
     "text": [
      "<a class=\"mw-jump-link\" href=\"#mw-head\">Jump to navigation</a>\n",
      "#mw-head\n",
      "['Jump to navigation']\n"
     ]
    }
   ],
   "source": [
    "sample_link = mw_jump_links[0]\n",
    "print(sample_link)\n",
    "print(sample_link['href'])  # Access a tag attribute with the dictionnary interface\n",
    "print(sample_link.contents)  # Access the list of content in a tag."
   ]
  },
  {
   "cell_type": "code",
   "execution_count": 33,
   "metadata": {},
   "outputs": [
    {
     "data": {
      "text/plain": [
       "[<a id=\"top\"></a>,\n",
       " <a href=\"/wiki/Wikipedia:Good_articles\" title=\"This is a good article. Click here for more information.\"><img alt=\"This is a good article. Click here for more information.\" data-file-height=\"185\" data-file-width=\"180\" decoding=\"async\" height=\"20\" src=\"//upload.wikimedia.org/wikipedia/en/thumb/9/94/Symbol_support_vote.svg/19px-Symbol_support_vote.svg.png\" srcset=\"//upload.wikimedia.org/wikipedia/en/thumb/9/94/Symbol_support_vote.svg/29px-Symbol_support_vote.svg.png 1.5x, //upload.wikimedia.org/wikipedia/en/thumb/9/94/Symbol_support_vote.svg/39px-Symbol_support_vote.svg.png 2x\" width=\"19\"/></a>,\n",
       " <a class=\"mw-jump-link\" href=\"#mw-head\">Jump to navigation</a>,\n",
       " <a class=\"mw-jump-link\" href=\"#searchInput\">Jump to search</a>,\n",
       " <a class=\"mw-redirect mw-disambig\" href=\"/wiki/Python_(disambiguation)\" title=\"Python (disambiguation)\">Python (disambiguation)</a>]"
      ]
     },
     "execution_count": 33,
     "metadata": {},
     "output_type": "execute_result"
    }
   ],
   "source": [
    "links[:5]"
   ]
  },
  {
   "cell_type": "code",
   "execution_count": 31,
   "metadata": {},
   "outputs": [
    {
     "name": "stdout",
     "output_type": "stream",
     "text": [
      "[None, '/wiki/Wikipedia:Good_articles', '#mw-head', '#searchInput', '/wiki/Python_(disambiguation)', '/wiki/File:Python_logo_and_wordmark.svg', '/wiki/Programming_paradigm', '/wiki/Multi-paradigm_programming_language', '/wiki/Object-oriented_programming', '#cite_note-1']\n"
     ]
    }
   ],
   "source": [
    "targets = [link.get('href') for link in links]\n",
    "print(targets[:10])"
   ]
  },
  {
   "cell_type": "markdown",
   "metadata": {},
   "source": [
    "## Exercise: The Sonnets"
   ]
  },
  {
   "cell_type": "code",
   "execution_count": 6,
   "metadata": {},
   "outputs": [
    {
     "data": {
      "text/plain": [
       "200"
      ]
     },
     "execution_count": 6,
     "metadata": {},
     "output_type": "execute_result"
    }
   ],
   "source": [
    "# TODO: Go to the website poetry and check the HTML structure by Developer Tools\r\n",
    "from bs4 import BeautifulSoup\r\n",
    "import requests\r\n",
    "shakespear_path = \"http://shakespeare.mit.edu/Poetry/\"\r\n",
    "response = requests.get(\"http://shakespeare.mit.edu/Poetry/sonnets.html\") # User requests to pul html data\r\n",
    "response.status_code ## Status"
   ]
  },
  {
   "cell_type": "code",
   "execution_count": 4,
   "metadata": {},
   "outputs": [
    {
     "data": {
      "text/plain": [
       "'<HTML>\\n<HEAD>\\n<TITLE>\\nThe Sonnets\\n</TITLE>\\n</HEAD>\\n<BODY>\\n<H1>The Sonnets</H1>\\n\\n<p>You can buy the Arden text of these sonnets from the Amazon.com online bookstore: <a href=\"http://www.amazon.com/gp/product/1903436575?ie=UTF8&tag=theinteclasar-20&linkCode=as2&camp=1789&creative=9325&creativeASIN=1903436575\">Shakespeare\\'s Sonnets (Arden Shakespeare: Third Series)</a><img src=\"http://www.assoc-amazon.com/e/ir?t=theinteclasar-20&l=as2&o=1&a=1903436575\" width=\"1\" height=\"1\" border=\"0\" alt=\"\" style=\"'"
      ]
     },
     "execution_count": 4,
     "metadata": {},
     "output_type": "execute_result"
    }
   ],
   "source": [
    "response.text[:500] ## Quick check the content of response"
   ]
  },
  {
   "cell_type": "code",
   "execution_count": 8,
   "metadata": {},
   "outputs": [],
   "source": [
    "poem_soup = BeautifulSoup(response.text) ## Convert the response to BS structure"
   ]
  },
  {
   "cell_type": "code",
   "execution_count": 10,
   "metadata": {},
   "outputs": [
    {
     "data": {
      "text/plain": [
       "[<a href=\"http://www.amazon.com/gp/product/1903436575?ie=UTF8&amp;tag=theinteclasar-20&amp;linkCode=as2&amp;camp=1789&amp;creative=9325&amp;creativeASIN=1903436575\">Shakespeare's Sonnets (Arden Shakespeare: Third Series)</a>,\n",
       " <a href=\"sonnet.I.html\">I. FROM fairest creatures we desire increase,</a>,\n",
       " <a href=\"sonnet.II.html\">II. When forty winters shall beseige thy brow,</a>,\n",
       " <a href=\"sonnet.III.html\">III. Look in thy glass, and tell the face thou viewest</a>,\n",
       " <a href=\"sonnet.IV.html\">IV. Unthrifty loveliness, why dost thou spend</a>]"
      ]
     },
     "execution_count": 10,
     "metadata": {},
     "output_type": "execute_result"
    }
   ],
   "source": [
    "poem_links = poem_soup.find_all('a') ## Find all hyperlink\n",
    "poem_links[:5] #3 Check teh first 5"
   ]
  },
  {
   "cell_type": "code",
   "execution_count": 11,
   "metadata": {},
   "outputs": [
    {
     "data": {
      "text/plain": [
       "[[\"Shakespeare's Sonnets (Arden Shakespeare: Third Series)\"],\n",
       " ['I. FROM fairest creatures we desire increase,'],\n",
       " ['II. When forty winters shall beseige thy brow,'],\n",
       " ['III. Look in thy glass, and tell the face thou viewest'],\n",
       " ['IV. Unthrifty loveliness, why dost thou spend']]"
      ]
     },
     "execution_count": 11,
     "metadata": {},
     "output_type": "execute_result"
    }
   ],
   "source": [
    "[l.contents for l in poem_links][:5] ## Extract the contents in each links"
   ]
  },
  {
   "cell_type": "code",
   "execution_count": null,
   "metadata": {},
   "outputs": [],
   "source": [
    "#TODO: Check the code below\n",
    "## 1. Now take the href part (by BS)\n",
    "## 2. Add the href after shakespear_path, request.get the data and print our\n",
    "## NOW, modify that code to\n",
    "## 1. Take the last 5 poem in the list\n",
    "## 2. Print out the contents"
   ]
  },
  {
   "cell_type": "code",
   "execution_count": 12,
   "metadata": {},
   "outputs": [
    {
     "data": {
      "text/plain": [
       "200"
      ]
     },
     "execution_count": 12,
     "metadata": {},
     "output_type": "execute_result"
    }
   ],
   "source": [
    "shakespear_path\n",
    "response = requests.get(shakespear_path + 'sonnet.I.html')\n",
    "response.status_code ## Status"
   ]
  },
  {
   "cell_type": "code",
   "execution_count": 13,
   "metadata": {},
   "outputs": [
    {
     "name": "stdout",
     "output_type": "stream",
     "text": [
      "<HTML><HEAD><TITLE>Sonnet I</TITLE></HEAD>\n",
      "<BODY><H1>Sonnet I</H1>\n",
      "\n",
      "<BLOCKQUOTE>FROM fairest creatures we desire increase,<BR>\n",
      "That thereby beauty's rose might never die,<BR>\n",
      "But as the riper should by time decease,<BR>\n",
      "His tender heir might bear his memory:<BR>\n",
      "But thou, contracted to thine own bright eyes,<BR>\n",
      "Feed'st thy light'st flame with self-substantial fuel,<BR>\n",
      "Making a famine where abundance lies,<BR>\n",
      "Thyself thy foe, to thy sweet self too cruel.<BR>\n",
      "Thou that art now the world's fresh ornament<BR>\n",
      "And only herald to the gaudy spring,<BR>\n",
      "Within thine own bud buriest thy content<BR>\n",
      "And, tender churl, makest waste in niggarding.<BR>\n",
      "  Pity the world, or else this glutton be,<BR>\n",
      "  To eat the world's due, by the grave and thee.<BR>\n",
      "</BLOCKQUOTE>\n",
      "\n",
      "</BODY></HTML>\n",
      "\n"
     ]
    }
   ],
   "source": [
    "print(response.text)"
   ]
  },
  {
   "cell_type": "code",
   "execution_count": 22,
   "metadata": {},
   "outputs": [
    {
     "name": "stdout",
     "output_type": "stream",
     "text": [
      "<HTML><HEAD><TITLE>Sonnet CL</TITLE></HEAD>\n",
      "<BODY><H1>Sonnet CL</H1>\n",
      "\n",
      "<BLOCKQUOTE>O, from what power hast thou this powerful might<BR>\n",
      "With insufficiency my heart to sway?<BR>\n",
      "To make me give the lie to my true sight,<BR>\n",
      "And swear that brightness doth not grace the day?<BR>\n",
      "Whence hast thou this becoming of things ill,<BR>\n",
      "That in the very refuse of thy deeds<BR>\n",
      "There is such strength and warrantize of skill<BR>\n",
      "That, in my mind, thy worst all best exceeds?<BR>\n",
      "Who taught thee how to make me love thee more<BR>\n",
      "The more I hear and see just cause of hate?<BR>\n",
      "O, though I love what others do abhor,<BR>\n",
      "With others thou shouldst not abhor my state:<BR>\n",
      "  If thy unworthiness raised love in me,<BR>\n",
      "  More worthy I to be beloved of thee.<BR>\n",
      "</BLOCKQUOTE>\n",
      "\n",
      "</BODY></HTML>\n",
      "\n",
      "<HTML><HEAD><TITLE>Sonnet CLI</TITLE></HEAD>\n",
      "<BODY><H1>Sonnet CLI</H1>\n",
      "\n",
      "<BLOCKQUOTE>Love is too young to know what conscience is;<BR>\n",
      "Yet who knows not conscience is born of love?<BR>\n",
      "Then, gentle cheater, urge not my amiss,<BR>\n",
      "Lest guilty of my faults thy sweet self prove:<BR>\n",
      "For, thou betraying me, I do betray<BR>\n",
      "My nobler part to my gross body's treason;<BR>\n",
      "My soul doth tell my body that he may<BR>\n",
      "Triumph in love; flesh stays no father reason;<BR>\n",
      "But, rising at thy name, doth point out thee<BR>\n",
      "As his triumphant prize. Proud of this pride,<BR>\n",
      "He is contented thy poor drudge to be,<BR>\n",
      "To stand in thy affairs, fall by thy side.<BR>\n",
      "  No want of conscience hold it that I call<BR>\n",
      "  Her 'love' for whose dear love I rise and fall.<BR>\n",
      "</BLOCKQUOTE>\n",
      "\n",
      "</BODY></HTML>\n",
      "\n",
      "<HTML><HEAD><TITLE>Sonnet CLII</TITLE></HEAD>\n",
      "<BODY><H1>Sonnet CLII</H1>\n",
      "\n",
      "<BLOCKQUOTE>In loving thee thou know'st I am forsworn,<BR>\n",
      "But thou art twice forsworn, to me love swearing,<BR>\n",
      "In act thy bed-vow broke and new faith torn,<BR>\n",
      "In vowing new hate after new love bearing.<BR>\n",
      "But why of two oaths' breach do I accuse thee,<BR>\n",
      "When I break twenty? I am perjured most;<BR>\n",
      "For all my vows are oaths but to misuse thee<BR>\n",
      "And all my honest faith in thee is lost,<BR>\n",
      "For I have sworn deep oaths of thy deep kindness,<BR>\n",
      "Oaths of thy love, thy truth, thy constancy,<BR>\n",
      "And, to enlighten thee, gave eyes to blindness,<BR>\n",
      "Or made them swear against the thing they see;<BR>\n",
      "  For I have sworn thee fair; more perjured I,<BR>\n",
      "  To swear against the truth so foul a lie!<BR>\n",
      "</BLOCKQUOTE>\n",
      "\n",
      "</BODY></HTML>\n",
      "\n",
      "<HTML><HEAD><TITLE>Sonnet CLIII</TITLE></HEAD>\n",
      "<BODY><H1>Sonnet CLIII</H1>\n",
      "\n",
      "<BLOCKQUOTE>Cupid laid by his brand, and fell asleep:<BR>\n",
      "A maid of Dian's this advantage found,<BR>\n",
      "And his love-kindling fire did quickly steep<BR>\n",
      "In a cold valley-fountain of that ground;<BR>\n",
      "Which borrow'd from this holy fire of Love<BR>\n",
      "A dateless lively heat, still to endure,<BR>\n",
      "And grew a seething bath, which yet men prove<BR>\n",
      "Against strange maladies a sovereign cure.<BR>\n",
      "But at my mistress' eye Love's brand new-fired,<BR>\n",
      "The boy for trial needs would touch my breast;<BR>\n",
      "I, sick withal, the help of bath desired,<BR>\n",
      "And thither hied, a sad distemper'd guest,<BR>\n",
      "  But found no cure: the bath for my help lies<BR>\n",
      "  Where Cupid got new fire--my mistress' eyes.<BR>\n",
      "</BLOCKQUOTE>\n",
      "\n",
      "</BODY></HTML>\n",
      "\n",
      "<HTML><HEAD><TITLE>Sonnet CLIV</TITLE></HEAD>\n",
      "<BODY><H1>Sonnet CLIV</H1>\n",
      "\n",
      "<BLOCKQUOTE>The little Love-god lying once asleep<BR>\n",
      "Laid by his side his heart-inflaming brand,<BR>\n",
      "Whilst many nymphs that vow'd chaste life to keep<BR>\n",
      "Came tripping by; but in her maiden hand<BR>\n",
      "The fairest votary took up that fire<BR>\n",
      "Which many legions of true hearts had warm'd;<BR>\n",
      "And so the general of hot desire<BR>\n",
      "Was sleeping by a virgin hand disarm'd.<BR>\n",
      "This brand she quenched in a cool well by,<BR>\n",
      "Which from Love's fire took heat perpetual,<BR>\n",
      "Growing a bath and healthful remedy<BR>\n",
      "For men diseased; but I, my mistress' thrall,<BR>\n",
      "  Came there for cure, and this by that I prove,<BR>\n",
      "  Love's fire heats water, water cools not love.<BR>\n",
      "\n"
     ]
    }
   ],
   "source": [
    "poem_links = poem_soup.find_all('a')\r\n",
    "len(poem_links)\r\n",
    "data=poem_links[150:]\r\n",
    "data\r\n",
    "for link in data:\r\n",
    "    url=link[\"href\"]\r\n",
    "    response = requests.get(shakespear_path + url)\r\n",
    "    response.status_code\r\n",
    "    print(response.text)\r\n"
   ]
  }
 ],
 "metadata": {
  "interpreter": {
   "hash": "dcacb0086e9a4f4eabd41c33bf4faac5ea0a3337ed3f5eff0680afa930572c04"
  },
  "kernelspec": {
   "display_name": "Python 3.9.5 64-bit",
   "name": "python3"
  },
  "language_info": {
   "codemirror_mode": {
    "name": "ipython",
    "version": 3
   },
   "file_extension": ".py",
   "mimetype": "text/x-python",
   "name": "python",
   "nbconvert_exporter": "python",
   "pygments_lexer": "ipython3",
   "version": "3.8.8"
  },
  "orig_nbformat": 4
 },
 "nbformat": 4,
 "nbformat_minor": 2
}