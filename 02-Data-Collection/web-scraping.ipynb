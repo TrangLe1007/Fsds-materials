{
 "metadata": {
  "language_info": {
   "codemirror_mode": {
    "name": "ipython",
    "version": 3
   },
   "file_extension": ".py",
   "mimetype": "text/x-python",
   "name": "python",
   "nbconvert_exporter": "python",
   "pygments_lexer": "ipython3",
   "version": "3.8.3"
  },
  "orig_nbformat": 4,
  "kernelspec": {
   "name": "python3",
   "display_name": "Python 3.8.3 64-bit (conda)"
  },
  "interpreter": {
   "hash": "0af6d0490f2597823f87d92aa5eca07e4b752751b56387b5dbca6d3197d35149"
  }
 },
 "nbformat": 4,
 "nbformat_minor": 2,
 "cells": [
  {
   "source": [
    "# Web Scraping\n"
   ],
   "cell_type": "markdown",
   "metadata": {}
  },
  {
   "source": [
    "## Behind every website\n",
    "\n",
    "* Go to [http://shakespeare.mit.edu/Poetry/sonnets.html](http://shakespeare.mit.edu/Poetry/sonnets.html)\n",
    "* On Chrome => More Tools => Developer Tools\n",
    "\n",
    "![behind-every-web.png](./images/behind-every-web.png)"
   ],
   "cell_type": "markdown",
   "metadata": {}
  },
  {
   "source": [
    "# HTML\n",
    "![word-to-html.png](./images/word-to-html.png)"
   ],
   "cell_type": "markdown",
   "metadata": {}
  },
  {
   "cell_type": "code",
   "execution_count": null,
   "metadata": {},
   "outputs": [],
   "source": [
    "# TODO: Open this page https://wordtohtml.net/\n",
    "## Try to right a paragraph\n",
    "## (1) What happen when we enter a new pararapth\n",
    "## (2) Bold. Italic? \n",
    "## (3) Bullet points?\n",
    "## (4) Hyperlink"
   ]
  },
  {
   "source": [
    "## HTML Tags\n",
    "\n",
    "![html-tags.png](./images/html-tags.png)"
   ],
   "cell_type": "markdown",
   "metadata": {}
  },
  {
   "source": [
    "## HTML attributes\n",
    "Include in the opening tags, which provide further details about the tags\n",
    "\n",
    "* `href` —> the URL for a link\n",
    "* `class` —> CSS class(es) for an element (see below)\n",
    "* `id` —> a unique id for an element\n",
    "* `src` —> the URL for an image\n",
    "* `style` —> CSS properties for an element (see below)\n"
   ],
   "cell_type": "markdown",
   "metadata": {}
  },
  {
   "source": [
    "## CSS\n",
    "* HTML is about the structure and contents\n",
    "* CSS provide the styles\n",
    "\n",
    "![style-css.png](./images/style-css.png)"
   ],
   "cell_type": "markdown",
   "metadata": {}
  },
  {
   "source": [
    "## Scraping with Python"
   ],
   "cell_type": "markdown",
   "metadata": {}
  },
  {
   "source": [
    "## `Requests` the HTML source code"
   ],
   "cell_type": "markdown",
   "metadata": {}
  },
  {
   "cell_type": "code",
   "execution_count": 6,
   "metadata": {},
   "outputs": [
    {
     "output_type": "execute_result",
     "data": {
      "text/plain": [
       "200"
      ]
     },
     "metadata": {},
     "execution_count": 6
    }
   ],
   "source": [
    "import requests\n",
    "# Send a GET request to a regular URL (not an API this time)\n",
    "response = requests.get(\"https://en.wikipedia.org/wiki/Python_(programming_language)\")\n",
    "response.status_code ## Status"
   ]
  },
  {
   "cell_type": "code",
   "execution_count": 8,
   "metadata": {},
   "outputs": [
    {
     "output_type": "execute_result",
     "data": {
      "text/plain": [
       "'<!DOCTYPE html>\\n<html class=\"client-nojs\" lang=\"en\" dir=\"ltr\">\\n<head>\\n<meta charset=\"UTF-8\"/>\\n<title>Python (programming language) - Wikipedia</title>\\n<script>document.documentElement.className=\"client-js\";RLCONF={\"wgBreakFrames\":!1,\"wgSeparatorTransformTable\":[\"\",\"\"],\"wgDigitTransformTable\":[\"\",\"\"],\"wgDefaultDateFormat\":\"dmy\",\"wgMonthNames\":[\"\",\"January\",\"February\",\"March\",\"April\",\"May\",\"June\",\"July\",\"August\",\"September\",\"October\",\"November\",\"December\"],\"wgRequestId\":\"c0d9a525-c939-4094-9b8f-b6'"
      ]
     },
     "metadata": {},
     "execution_count": 8
    }
   ],
   "source": [
    "response.text[:500]"
   ]
  },
  {
   "cell_type": "code",
   "execution_count": 9,
   "metadata": {},
   "outputs": [],
   "source": [
    "## Write the content to html file\n",
    "with open('output/wikipedia.html', 'w') as f:\n",
    "    f.write(response.text) "
   ]
  },
  {
   "cell_type": "code",
   "execution_count": 10,
   "metadata": {},
   "outputs": [
    {
     "output_type": "stream",
     "name": "stdout",
     "text": [
      "paris_iss.json wikipedia.html\n"
     ]
    }
   ],
   "source": [
    "!ls output "
   ]
  },
  {
   "cell_type": "code",
   "execution_count": null,
   "metadata": {},
   "outputs": [],
   "source": [
    "#TODO: Check the wikipedia.html file. Install html preview extension in VSCode => preview"
   ]
  },
  {
   "source": [
    "## Parse HTML with `BeautifulSoup`\n",
    "* Without the BeautifulSoup, it looks like a jungle.\n",
    "* How can we extract, knowing key-value"
   ],
   "cell_type": "markdown",
   "metadata": {}
  },
  {
   "cell_type": "code",
   "execution_count": 11,
   "metadata": {},
   "outputs": [],
   "source": [
    "from bs4 import BeautifulSoup"
   ]
  },
  {
   "cell_type": "code",
   "execution_count": 27,
   "metadata": {},
   "outputs": [],
   "source": [
    "soup = BeautifulSoup(response.text)"
   ]
  },
  {
   "source": [
    "## `Tag` methods"
   ],
   "cell_type": "markdown",
   "metadata": {}
  },
  {
   "cell_type": "code",
   "execution_count": null,
   "metadata": {},
   "outputs": [],
   "source": [
    "#TODO: Ctrl+F it in wikiperdia.html file"
   ]
  },
  {
   "cell_type": "code",
   "execution_count": 28,
   "metadata": {},
   "outputs": [
    {
     "output_type": "execute_result",
     "data": {
      "text/plain": [
       "'<h1 class=\"firstHeading\" id=\"firstHeading\">Python (programming language)</h1>'"
      ]
     },
     "metadata": {},
     "execution_count": 28
    }
   ],
   "source": [
    "title = soup.find('h1')\n",
    "str(title)"
   ]
  },
  {
   "cell_type": "code",
   "execution_count": 20,
   "metadata": {},
   "outputs": [
    {
     "output_type": "execute_result",
     "data": {
      "text/plain": [
       "bs4.element.Tag"
      ]
     },
     "metadata": {},
     "execution_count": 20
    }
   ],
   "source": [
    "type(title)"
   ]
  },
  {
   "cell_type": "code",
   "execution_count": 21,
   "metadata": {},
   "outputs": [
    {
     "output_type": "execute_result",
     "data": {
      "text/plain": [
       "['Python (programming language)']"
      ]
     },
     "metadata": {},
     "execution_count": 21
    }
   ],
   "source": [
    "title.contents "
   ]
  },
  {
   "cell_type": "code",
   "execution_count": 23,
   "metadata": {},
   "outputs": [
    {
     "output_type": "execute_result",
     "data": {
      "text/plain": [
       "[<a id=\"top\"></a>,\n",
       " <a href=\"/wiki/Wikipedia:Good_articles\" title=\"This is a good article. Click here for more information.\"><img alt=\"This is a good article. Click here for more information.\" data-file-height=\"185\" data-file-width=\"180\" decoding=\"async\" height=\"20\" src=\"//upload.wikimedia.org/wikipedia/en/thumb/9/94/Symbol_support_vote.svg/19px-Symbol_support_vote.svg.png\" srcset=\"//upload.wikimedia.org/wikipedia/en/thumb/9/94/Symbol_support_vote.svg/29px-Symbol_support_vote.svg.png 1.5x, //upload.wikimedia.org/wikipedia/en/thumb/9/94/Symbol_support_vote.svg/39px-Symbol_support_vote.svg.png 2x\" width=\"19\"/></a>,\n",
       " <a class=\"mw-jump-link\" href=\"#mw-head\">Jump to navigation</a>,\n",
       " <a class=\"mw-jump-link\" href=\"#searchInput\">Jump to search</a>,\n",
       " <a class=\"mw-redirect mw-disambig\" href=\"/wiki/Python_(disambiguation)\" title=\"Python (disambiguation)\">Python (disambiguation)</a>]"
      ]
     },
     "metadata": {},
     "execution_count": 23
    }
   ],
   "source": [
    "# Find all Hyperlink (tag: a)\n",
    "links = soup.find_all('a')\n",
    "links[:5]"
   ]
  },
  {
   "cell_type": "code",
   "execution_count": 24,
   "metadata": {},
   "outputs": [
    {
     "output_type": "stream",
     "name": "stdout",
     "text": [
      "[<a class=\"mw-jump-link\" href=\"#mw-head\">Jump to navigation</a>, <a class=\"mw-jump-link\" href=\"#searchInput\">Jump to search</a>]\n"
     ]
    }
   ],
   "source": [
    "# You can also pass attributes to your filter\n",
    "mw_jump_links = soup.find_all('a', {'class': 'mw-jump-link'})\n",
    "print(mw_jump_links)"
   ]
  },
  {
   "cell_type": "code",
   "execution_count": 25,
   "metadata": {},
   "outputs": [
    {
     "output_type": "stream",
     "name": "stdout",
     "text": [
      "[<h2 id=\"mw-toc-heading\">Contents</h2>, <h2><span class=\"mw-headline\" id=\"History\">History</span><span class=\"mw-editsection\"><span class=\"mw-editsection-bracket\">[</span><a href=\"/w/index.php?title=Python_(programming_language)&amp;action=edit&amp;section=1\" title=\"Edit section: History\">edit</a><span class=\"mw-editsection-bracket\">]</span></span></h2>, <h2><span class=\"mw-headline\" id=\"Design_philosophy_and_features\">Design philosophy and features</span><span class=\"mw-editsection\"><span class=\"mw-editsection-bracket\">[</span><a href=\"/w/index.php?title=Python_(programming_language)&amp;action=edit&amp;section=2\" title=\"Edit section: Design philosophy and features\">edit</a><span class=\"mw-editsection-bracket\">]</span></span></h2>, <h2><span class=\"mw-headline\" id=\"Syntax_and_semantics\">Syntax and semantics</span><span class=\"mw-editsection\"><span class=\"mw-editsection-bracket\">[</span><a href=\"/w/index.php?title=Python_(programming_language)&amp;action=edit&amp;section=3\" title=\"Edit section: Syntax and semantics\">edit</a><span class=\"mw-editsection-bracket\">]</span></span></h2>, <h3><span class=\"mw-headline\" id=\"Indentation\">Indentation</span><span class=\"mw-editsection\"><span class=\"mw-editsection-bracket\">[</span><a href=\"/w/index.php?title=Python_(programming_language)&amp;action=edit&amp;section=4\" title=\"Edit section: Indentation\">edit</a><span class=\"mw-editsection-bracket\">]</span></span></h3>]\n"
     ]
    }
   ],
   "source": [
    "# You can even filter with a list of tags\n",
    "h2_and_h3 = soup.find_all(['h2', 'h3'])\n",
    "print(h2_and_h3[:5])"
   ]
  },
  {
   "cell_type": "code",
   "execution_count": 26,
   "metadata": {},
   "outputs": [
    {
     "output_type": "stream",
     "name": "stdout",
     "text": [
      "<div id=\"siteNotice\"><!-- CentralNotice --></div>\n"
     ]
    }
   ],
   "source": [
    "# To find all the tags that have an `id`:\n",
    "has_id = soup.find_all(id=True)\n",
    "print(has_id[4])"
   ]
  },
  {
   "source": [
    "## `Tag` Attributes"
   ],
   "cell_type": "markdown",
   "metadata": {}
  },
  {
   "cell_type": "code",
   "execution_count": 30,
   "metadata": {},
   "outputs": [
    {
     "output_type": "stream",
     "name": "stdout",
     "text": [
      "<a class=\"mw-jump-link\" href=\"#mw-head\">Jump to navigation</a>\n#mw-head\n['Jump to navigation']\n"
     ]
    }
   ],
   "source": [
    "sample_link = mw_jump_links[0]\n",
    "print(sample_link)\n",
    "print(sample_link['href'])  # Access a tag attribute with the dictionnary interface\n",
    "print(sample_link.contents)  # Access the list of content in a tag."
   ]
  },
  {
   "cell_type": "code",
   "execution_count": 33,
   "metadata": {},
   "outputs": [
    {
     "output_type": "execute_result",
     "data": {
      "text/plain": [
       "[<a id=\"top\"></a>,\n",
       " <a href=\"/wiki/Wikipedia:Good_articles\" title=\"This is a good article. Click here for more information.\"><img alt=\"This is a good article. Click here for more information.\" data-file-height=\"185\" data-file-width=\"180\" decoding=\"async\" height=\"20\" src=\"//upload.wikimedia.org/wikipedia/en/thumb/9/94/Symbol_support_vote.svg/19px-Symbol_support_vote.svg.png\" srcset=\"//upload.wikimedia.org/wikipedia/en/thumb/9/94/Symbol_support_vote.svg/29px-Symbol_support_vote.svg.png 1.5x, //upload.wikimedia.org/wikipedia/en/thumb/9/94/Symbol_support_vote.svg/39px-Symbol_support_vote.svg.png 2x\" width=\"19\"/></a>,\n",
       " <a class=\"mw-jump-link\" href=\"#mw-head\">Jump to navigation</a>,\n",
       " <a class=\"mw-jump-link\" href=\"#searchInput\">Jump to search</a>,\n",
       " <a class=\"mw-redirect mw-disambig\" href=\"/wiki/Python_(disambiguation)\" title=\"Python (disambiguation)\">Python (disambiguation)</a>]"
      ]
     },
     "metadata": {},
     "execution_count": 33
    }
   ],
   "source": [
    "links[:5]"
   ]
  },
  {
   "cell_type": "code",
   "execution_count": 31,
   "metadata": {},
   "outputs": [
    {
     "output_type": "stream",
     "name": "stdout",
     "text": [
      "[None, '/wiki/Wikipedia:Good_articles', '#mw-head', '#searchInput', '/wiki/Python_(disambiguation)', '/wiki/File:Python_logo_and_wordmark.svg', '/wiki/Programming_paradigm', '/wiki/Multi-paradigm_programming_language', '/wiki/Object-oriented_programming', '#cite_note-1']\n"
     ]
    }
   ],
   "source": [
    "targets = [link.get('href') for link in links]\n",
    "print(targets[:10])"
   ]
  },
  {
   "source": [
    "## Exercise: The Sonnets"
   ],
   "cell_type": "markdown",
   "metadata": {}
  },
  {
   "cell_type": "code",
   "execution_count": 54,
   "metadata": {},
   "outputs": [
    {
     "output_type": "execute_result",
     "data": {
      "text/plain": [
       "200"
      ]
     },
     "metadata": {},
     "execution_count": 54
    }
   ],
   "source": [
    "# TODO: Go to the website poetry and check the HTML structure by Developer Tools\n",
    "shakespear_path = \"http://shakespeare.mit.edu/Poetry/\"\n",
    "response = requests.get(\"http://shakespeare.mit.edu/Poetry/sonnets.html\") # User requests to pul html data\n",
    "response.status_code ## Status"
   ]
  },
  {
   "cell_type": "code",
   "execution_count": 38,
   "metadata": {},
   "outputs": [
    {
     "output_type": "execute_result",
     "data": {
      "text/plain": [
       "'<HTML>\\n<HEAD>\\n<TITLE>\\nThe Sonnets\\n</TITLE>\\n</HEAD>\\n<BODY>\\n<H1>The Sonnets</H1>\\n\\n<p>You can buy the Arden text of these sonnets from the Amazon.com online bookstore: <a href=\"http://www.amazon.com/gp/product/1903436575?ie=UTF8&tag=theinteclasar-20&linkCode=as2&camp=1789&creative=9325&creativeASIN=1903436575\">Shakespeare\\'s Sonnets (Arden Shakespeare: Third Series)</a><img src=\"http://www.assoc-amazon.com/e/ir?t=theinteclasar-20&l=as2&o=1&a=1903436575\" width=\"1\" height=\"1\" border=\"0\" alt=\"\" style=\"'"
      ]
     },
     "metadata": {},
     "execution_count": 38
    }
   ],
   "source": [
    "response.text[:500] ## Quick check the content of response"
   ]
  },
  {
   "cell_type": "code",
   "execution_count": 44,
   "metadata": {},
   "outputs": [],
   "source": [
    "poem_soup = BeautifulSoup(response.text) ## Convert the response to BS structure"
   ]
  },
  {
   "cell_type": "code",
   "execution_count": 50,
   "metadata": {},
   "outputs": [
    {
     "output_type": "execute_result",
     "data": {
      "text/plain": [
       "[<a href=\"http://www.amazon.com/gp/product/1903436575?ie=UTF8&amp;tag=theinteclasar-20&amp;linkCode=as2&amp;camp=1789&amp;creative=9325&amp;creativeASIN=1903436575\">Shakespeare's Sonnets (Arden Shakespeare: Third Series)</a>,\n",
       " <a href=\"sonnet.I.html\">I. FROM fairest creatures we desire increase,</a>,\n",
       " <a href=\"sonnet.II.html\">II. When forty winters shall beseige thy brow,</a>,\n",
       " <a href=\"sonnet.III.html\">III. Look in thy glass, and tell the face thou viewest</a>,\n",
       " <a href=\"sonnet.IV.html\">IV. Unthrifty loveliness, why dost thou spend</a>]"
      ]
     },
     "metadata": {},
     "execution_count": 50
    }
   ],
   "source": [
    "poem_links = poem_soup.find_all('a') ## Find all hyperlink\n",
    "poem_links[:5] #3 Check teh first 5"
   ]
  },
  {
   "cell_type": "code",
   "execution_count": 52,
   "metadata": {},
   "outputs": [
    {
     "output_type": "execute_result",
     "data": {
      "text/plain": [
       "[[\"Shakespeare's Sonnets (Arden Shakespeare: Third Series)\"],\n",
       " ['I. FROM fairest creatures we desire increase,'],\n",
       " ['II. When forty winters shall beseige thy brow,'],\n",
       " ['III. Look in thy glass, and tell the face thou viewest'],\n",
       " ['IV. Unthrifty loveliness, why dost thou spend']]"
      ]
     },
     "metadata": {},
     "execution_count": 52
    }
   ],
   "source": [
    "[l.contents for l in poem_links][:5] ## Extract the contents in each links"
   ]
  },
  {
   "cell_type": "code",
   "execution_count": null,
   "metadata": {},
   "outputs": [],
   "source": [
    "#TODO: Check the code below\n",
    "## 1. Now take the href part (by BS)\n",
    "## 2. Add the href after shakespear_path, request.get the data and print our\n",
    "## NOW, modify that code to\n",
    "## 1. Take the last 5 poem in the list\n",
    "## 2. Print out the contents"
   ]
  },
  {
   "cell_type": "code",
   "execution_count": 58,
   "metadata": {},
   "outputs": [
    {
     "output_type": "execute_result",
     "data": {
      "text/plain": [
       "200"
      ]
     },
     "metadata": {},
     "execution_count": 58
    }
   ],
   "source": [
    "shakespear_path\n",
    "response = requests.get(shakespear_path + 'sonnet.I.html')\n",
    "response.status_code ## Status"
   ]
  },
  {
   "cell_type": "code",
   "execution_count": 66,
   "metadata": {},
   "outputs": [
    {
     "output_type": "stream",
     "name": "stdout",
     "text": [
      "<HTML><HEAD><TITLE>Sonnet I</TITLE></HEAD>\n<BODY><H1>Sonnet I</H1>\n\n<BLOCKQUOTE>FROM fairest creatures we desire increase,<BR>\nThat thereby beauty's rose might never die,<BR>\nBut as the riper should by time decease,<BR>\nHis tender heir might bear his memory:<BR>\nBut thou, contracted to thine own bright eyes,<BR>\nFeed'st thy light'st flame with self-substantial fuel,<BR>\nMaking a famine where abundance lies,<BR>\nThyself thy foe, to thy sweet self too cruel.<BR>\nThou that art now the world's fresh ornament<BR>\nAnd only herald to the gaudy spring,<BR>\nWithin thine own bud buriest thy content<BR>\nAnd, tender churl, makest waste in niggarding.<BR>\n  Pity the world, or else this glutton be,<BR>\n  To eat the world's due, by the grave and thee.<BR>\n</BLOCKQUOTE>\n\n</BODY></HTML>\n\n"
     ]
    }
   ],
   "source": [
    "print(response.text)"
   ]
  },
  {
   "cell_type": "code",
   "execution_count": null,
   "metadata": {},
   "outputs": [],
   "source": []
  }
 ]
}